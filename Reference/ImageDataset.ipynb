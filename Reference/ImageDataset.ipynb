{
 "cells": [
  {
   "cell_type": "markdown",
   "metadata": {},
   "source": [
    "# 資料增補 (Data Augmentation)"
   ]
  },
  {
   "cell_type": "code",
   "execution_count": 1,
   "metadata": {
    "colab": {},
    "colab_type": "code",
    "id": "PWuaygl9NQD-"
   },
   "outputs": [],
   "source": [
    "# 載入套件\n",
    "import tensorflow as tf\n",
    "from tensorflow import keras\n",
    "from tensorflow.keras import layers"
   ]
  },
  {
   "cell_type": "markdown",
   "metadata": {
    "colab_type": "text",
    "id": "CNThHNSINQEN"
   },
   "source": [
    "## 以檔案目錄為基礎，建立訓練(Training)及驗證(Validation)資料集(Dataset)"
   ]
  },
  {
   "cell_type": "code",
   "execution_count": 2,
   "metadata": {},
   "outputs": [
    {
     "data": {
      "text/plain": [
       "'丁, 七, 丈, 三, 上, 下, 不, 丐, 丑, 且, 丕, 世, 丘, 丙, 丞, 丟, 並, 丫, 中, 串, 丸, 丹, 主, 乃, 久, 么, 之, 乍, 乎, 乏, 乒, 乓, 乖, 乘, 乙, 九, 乞, 也, 乩, 乳, 乾, 亂, 了, 予, 事, 二, 于, 云, 互, 五, 井, 亙, 些, 亞, 亟, 亡, 交, 亥, 亦, 亨, 享, 京, 亭, 亮, 人, 什, 仁, 仃, 仄, 仆, 仇, 今, 介, 仍, 仔, 仕, 他, 仗, 付, 仙, 仞, 仟, 代, 令, 以, 仰, 仲, 仳, 件, 任, 份, 仿, 企, 伉, 伊, 伍, 伏, 伐, 休, 伕, 伙, 伯, 估, 伴, 伶, 伸, 伺, 似, 伽, 佃, 但, 佇, 位, 低, 住, 佐, 佑, 佔, 何, 佗, 余, 佛, 作, 佝, 佞, 你, 佣, 佩, 佬, 佯, 佰, 佳, 併, 佻, 佾, 使, 侃, 來, 侈, 例, 侍, 侏, 侖, 供, 依, 侮, 侯, 侵, 侶, 便, 係, 促, 俄, 俊, 俎, 俏, 俐, 俑, 俗, 俘, 俚, 保, 俞, 俟, 俠, 信, 修, 俯, 俱, 俳, 俸, 俺, 俾, 倀, 倆, 倉, 個, 倌, 倍, 倏, 們, 倒, 倔, 倖, 倘, 候, 倚, 借, 倡, 倣, 倥, 倦, 倨, 倩, 倪, 倫, 倭, 值, 偃, 假, 偉, 偌, 偎, 偏, 偕, 做, 停, 健, 側, 偵, 偶, 偷, 偺, 偽, 傀, 傅, 傍, 傑, 傖, 傘, 備, 傢, 催, 傭, 傯, 傲, 傳, 債, 傷, 傻, 傾, 僅, 像, 僑, 僕, 僖, 僚, 僥, 僧, 僭, 僮, 僱, 僵, 價, 僻, 儀, 儂, 億, 儈, 儉, 儐, 儒, 儔, 儘, 償, 儡, 優, 儲, 儷, 儼, 兀, 允, 元, 兄, 充, 兆, 兇, 先, 光, 克, 兌, 免, 兒, 兔, 兕, 兗, 兜, 兢, 入, 內, 全, 兩, 八, 公, 六, 兮, 共, 兵, 其, 具, 典, 兼, 冀, 冉, 冊, 再, 冑, 冒, 冕, 冗, 冠, 冢, 冤, 冥, 冬, 冰, 冶, 冷, 冽, 准, 凋, 凌, 凍, 凜, 凝, 几, 凡, 凰, 凱, 凳, 凶, 凸, 凹, 出, 函, 刀, 刁, 刃, 分, 切, 刈, 刊, 刎, 刑, 划, 列, 初, 判, 別, 刨, 利, 刪, 刮, 到, 制, 刷, 券, 刻, 剁, 剃, 則, 削, 剋, 剌, 前, 剎, 剔, 剖, 剛, 剜, 剝, 剩, 剪, 副, 割, 剴, 創, 剷, 剽, 剿, 劃, 劇, 劈, 劉, 劍, 劑, 力, 功, 加, 劣, 助, 努, 劫, 劬, 劾, 勁, 勃, 勇, 勉, 勒, 動, 勗, 勘, 務, 勛, 勝, 勞, 募, 勢, 勤, 勦, 勵, 勸, 勻, 勾, 勿, 包, 匆, 匈, 匍, 匏, 匐, 匕, 化, 北, 匙, 匝, 匠, 匡, 匣, 匪, 匯, 匱, 匹, 匾, 匿, 區, 十, 千, 卅, 升, 午, 卉, 半, 卑, 卒, 卓, 協, 南, 博, 卜, 卞, 占, 卡, 卦, 卮, 卯, 印, 危, 即, 卵, 卷, 卸, 卹, 卻, 卿, 厄, 厚, 厝, 原, 厥, 厭, 厲, 去, 參, 又, 叉, 及, 友, 反, 叔, 取, 受, 叛, 叟, 叢, 口, 古, 句, 另, 叨, 叩, 只, 叫, 召, 叭, 叮, 可, 台, 叱, 史, 右, 叵, 司, 叼, 吁, 吃, 各, 吆, 合, 吉, 吊, 吋, 同, 名, 后, 吏, 吐, 向, 吒, 君, 吝, 吞, 吟, 吠, 否, 吧, 吩, 含, 吭, 吮, 吱, 吳, 吵, 吶, 吸, 吹, 吻, 吼, 吾, 呀, 呂, 呃, 呆, 呈, 告, 呎, 呢, 周, 呱, 味, 呵, 呶, 呷, 呸, 呻, 呼, 命, 咀, 咄, 咆, 咋, 和, 咎, 咐, 咒, 咕, 咖, 咚, 咦, 咨, 咪, 咫, 咬, 咯, 咱, 咳, 咸, 咻, 咽, 哀, 品, 哂, 哄, 哇, 哈, 哉, 哎, 員, 哥, 哦, 哨, 哩, 哪, 哭, 哮, 哲, 哺, 哼, 唁, 唆, 唉, 唐, 唔, 唧, 唬, 售, 唯, 唱, 唳, 唷, 唸, 唾, 啃, 啄, 商, 啊, 問, 啕, 啖, 啜, 啞, 啟, 啡, 啣, 啤, 啦, 啪, 啻, 啼, 啾, 喀, 喂, 喃, 善, 喇, 喉, 喊, 喋, 喔, 喘, 喚, 喜, 喝, 喟, 喧, 喪, 喬, 單, 喱, 喲, 喳, 喻, 嗅, 嗆, 嗇, 嗎, 嗑, 嗓, 嗚, 嗜, 嗟, 嗡, 嗣, 嗤, 嗥, 嗦, 嗨, 嗯, 嗷, 嗽, 嗾, 嘀, 嘆, 嘈, 嘉, 嘍, 嘎, 嘔, 嘖, 嘗, 嘛, 嘟, 嘩, 嘮, 嘯, 嘰, 嘲, 嘴, 嘶, 嘹, 嘻, 嘿, 噎, 噓, 噗, 噙, 噢, 噤, 噥, 器, 噩, 噪, 噫, 噬, 噯, 噱, 噴, 噸, 噹, 嚀, 嚅, 嚇, 嚎, 嚏, 嚐, 嚕, 嚥, 嚨, 嚮, 嚴, 嚶, 嚷, 嚼, 囀, 囁, 囂, 囈, 囉, 囊, 囌, 囑, 囚, 四, 回, 因, 囤, 囪, 困, 固, 圃, 圈, 國, 圍, 園, 圓, 圖, 團, 土, 在, 圬, 圭, 圯, 地, 圳, 圾, 址, 均, 坊, 坍, 坎, 坏, 坐, 坑, 坡, 坤, 坦, 坩, 坪, 坷, 坼, 垂, 垃, 型, 垠, 垢, 垣, 垮, 埂, 埃, 埋, 城, 埔, 域, 埠, 埤, 執, 培, 基, 堂, 堅, 堆, 堊, 堡, 堤, 堪, 堯, 堰, 報, 場, 堵, 塊, 塌, 塑, 塔, 塗, 塘, 塚, 塞, 塢, 填, 塭, 塵, 塹, 塾, 墀, 境, 墅, 墊, 墓, 墜, 增, 墟, 墨, 墮, 墳, 墾, 壁, 壅, 壇, 壑, 壓, 壕, 壘, 壙, 壞, 壟, 壢, 壤, 壩, 士, 壬, 壯, 壹, 壺, 壽, 夏, 夔, 夕, 外, 夙, 多, 夜, 夠, 夢, 夤, 夥, 大, 天, 太, 夫, 夭, 央, 失, 夷, 夸, 夾, 奄, 奇, 奈, 奉, 奎, 奏, 奐, 契, 奔, 奕, 套, 奘, 奚, 奠, 奢, 奧, 奩, 奪, 奮, 女, 奴, 奶, 奸, 她, 好, 妁, 如, 妃, 妄, 妊, 妍, 妒, 妓, 妖, 妙, 妝, 妞, 妣, 妤, 妥, 妨, 妮, 妯, 妳, 妹, 妻, 妾, 姆, 姊, 始, 姍, 姐, 姑, 姒, 姓, 委, 姘, 姚, 姜, 姣, 姥, 姦, 姨, 姪, 姬, 姻, 姿, 威, 娃, 娌, 娑, 娓, 娘, 娛, 娜, 娟, 娠, 娣, 娥, 娩, 娶, 娼, 婀, 婁, 婆, 婉, 婊, 婚, 婢, 婦, 婪, 婷, 婿, 媒, 媚, 媛, 媲, 媳, 媼, 媽, 媾, 嫁, 嫂, 嫉, 嫌, 嫖, 嫗, 嫘, 嫡, 嫣, 嫦, 嫩, 嫵, 嫻, 嬉, 嬋, 嬌, 嬝, 嬤, 嬪, 嬰, 嬴, 嬸, 孀, 子, 孑, 孓, 孔, 孕, 字, 存, 孚, 孜, 孝, 孟, 季, 孤, 孩, 孫, 孰, 孱, 孳, 孵, 學, 孺, 孽, 孿, 它, 宅, 宇, 守, 安, 宋, 完, 宏, 宗, 官, 宙, 定, 宛, 宜, 客, 宣, 室, 宥, 宦, 宮, 宰, 害, 宴, 宵, 家, 宸, 容, 宿, 寂, 寄, 寅, 密, 寇, 富, 寐, 寒, 寓, 寞, 察, 寡, 寢, 寤, 寥, 實, 寧, 寨, 審, 寫, 寬, 寮, 寵, 寶, 寸, 寺, 封, 射, 將, 專, 尉, 尊, 尋, 對, 導, 小, 少, 尖, 尚, 尤, 尬, 就, 尷, 尸, 尹, 尺, 尼, 尾, 尿, 局, 屁, 居, 屆, 屈, 屋, 屍, 屎, 屏, 屐, 屑, 展, 屜, 屠, 屢, 層, 履, 屬, 屯, 山, 屹, 岌, 岐, 岑, 岔, 岡, 岩, 岫, 岱, 岳, 岷, 岸, 峨, 峪, 峭, 峰, 島, 峻, 崁, 崆, 崇, 崎, 崑, 崔, 崖, 崙, 崢, 崩, 嵌, 嵐, 嵩, 嶄, 嶇, 嶝, 嶺, 嶼, 巒, 巔, 州, 巡, 巢, 工, 巧, 巨, 差, 己, 已, 巴, 巷, 巽, 巾, 布, 帆, 希, 帕, 帚, 帛, 帝, 帥, 師, 席, 帽, 幀, 幌, 幗, 幣, 幫, 干, 平, 年, 并, 幸, 幹, 幻, 庇, 序, 底, 庖, 庚, 府, 座, 庫, 庭, 康, 庾, 廈, 廓, 廖, 廝, 廟, 廢, 廳, 廷, 廿, 弄, 式, 弒, 引, 弘, 弟, 弧, 張, 強, 彆, 彎, 彗, 彙, 形, 彪, 彭, 影, 征, 待, 徇, 律, 徑, 徘, 從, 御, 徨, 徬, 忌, 忖, 志, 忱, 忽, 怎, 怠, 怡, 性, 怨, 怯, 恐, 恙, 恢, 恣, 恫, 恬, 恭, 恰, 悅, 悉, 患, 您, 悴, 悵, 悶, 悸, 悼, 惆, 惋, 惡, 惴, 惶, 愛, 感, 愣, 態, 慝, 慫, 憂, 憔, 憧, 憬, 憲, 憶, 懇, 懶, 懾, 懿, 戈, 戊, 戟, 戶, 打, 扯, 扳, 承, 把, 折, 抹, 押, 拆, 拈, 拗, 拚, 拾, 拿, 挈, 捆, 授, 掉, 探, 揍, 揚, 揩, 揭, 援, 搪, 摑, 摟, 攣, 攫, 斷'"
      ]
     },
     "execution_count": 2,
     "metadata": {},
     "output_type": "execute_result"
    }
   ],
   "source": [
    "import os\n",
    "label_list = list(os.listdir('image_data'))\n",
    "', '.join(label_list)"
   ]
  },
  {
   "cell_type": "code",
   "execution_count": 3,
   "metadata": {
    "colab": {},
    "colab_type": "code",
    "id": "ufL6yMc-NQEO"
   },
   "outputs": [
    {
     "name": "stdout",
     "output_type": "stream",
     "text": [
      "Found 54107 files belonging to 1305 classes.\n",
      "Using 43286 files for training.\n",
      "Found 54107 files belonging to 1305 classes.\n",
      "Using 10821 files for validation.\n"
     ]
    }
   ],
   "source": [
    "# image_dataset_from_directory：讀取目錄中的檔案，存入 dataset\n",
    "# image_dataset_from_directory：tf v2.3.0 才支援\n",
    "\n",
    "image_size = (50, 50)  # 影像尺寸\n",
    "batch_size = 100          # 批量\n",
    "\n",
    "# 訓練資料集(Dataset)\n",
    "# https://www.tensorflow.org/api_docs/python/tf/keras/utils/image_dataset_from_directory\n",
    "# 加 color_mode=\"grayscale\", 試試看\n",
    "train_ds = tf.keras.preprocessing.image_dataset_from_directory(\n",
    "    './image_data',\n",
    "    validation_split=0.2,\n",
    "    subset=\"training\",\n",
    "    seed=1337,\n",
    "    image_size=image_size,\n",
    "    batch_size=batch_size,\n",
    "    color_mode=\"grayscale\", \n",
    ")\n",
    "# 驗證(Validation)資料集\n",
    "val_ds = tf.keras.preprocessing.image_dataset_from_directory(\n",
    "    './image_data',\n",
    "    validation_split=0.2,\n",
    "    subset=\"validation\",\n",
    "    seed=1337,\n",
    "    image_size=image_size,\n",
    "    batch_size=batch_size,\n",
    "    color_mode=\"grayscale\", \n",
    "#     class_names=label_list,\n",
    "#     labels=None,\n",
    ")"
   ]
  },
  {
   "cell_type": "code",
   "execution_count": 4,
   "metadata": {
    "colab": {},
    "colab_type": "code",
    "id": "ufL6yMc-NQEO"
   },
   "outputs": [],
   "source": [
    "# model 內有特徵縮放\n",
    "# def process(image,label):\n",
    "#     image = tf.cast(image/255. ,tf.float32)\n",
    "#     return image,label\n",
    "\n",
    "# train_ds = train_ds.map(process)\n",
    "# val_ds = val_ds.map(process)"
   ]
  },
  {
   "cell_type": "markdown",
   "metadata": {
    "colab_type": "text",
    "id": "TFzDiMqBNQEQ"
   },
   "source": [
    "## 顯示訓練資料前9筆影像"
   ]
  },
  {
   "cell_type": "code",
   "execution_count": 5,
   "metadata": {},
   "outputs": [],
   "source": [
    "# for images, labels in train_ds.take(1):\n",
    "#     print(images)\n",
    "#     break"
   ]
  },
  {
   "cell_type": "code",
   "execution_count": 7,
   "metadata": {
    "colab": {},
    "colab_type": "code",
    "id": "QY8rZu0XNQER"
   },
   "outputs": [
    {
     "data": {
      "image/png": "[encoded data removed]",
      "text/plain": [
       "<Figure size 720x720 with 9 Axes>"
      ]
     },
     "metadata": {
      "needs_background": "light"
     },
     "output_type": "display_data"
    }
   ],
   "source": [
    "import matplotlib.pyplot as plt\n",
    "\n",
    "plt.rcParams['font.sans-serif'] = ['Arial Unicode MS'] \n",
    "plt.rcParams['axes.unicode_minus'] = False\n",
    "\n",
    "data = train_ds.take(1)\n",
    "data = list(data.as_numpy_iterator())\n",
    "images = data[0][0]\n",
    "label = data[0][1]   \n",
    "\n",
    "# 顯示訓練資料前9筆影像\n",
    "plt.figure(figsize=(10, 10))\n",
    "for i in range(9):\n",
    "    ax = plt.subplot(3, 3, i + 1)\n",
    "    plt.imshow(images[i].astype(int), cmap='Greys_r')\n",
    "    plt.title(label_list[int(label[i])] + ' ' + str(int(label[i])))\n",
    "    plt.axis(\"off\")"
   ]
  },
  {
   "cell_type": "code",
   "execution_count": 8,
   "metadata": {},
   "outputs": [
    {
     "data": {
      "text/plain": [
       "dtype('float32')"
      ]
     },
     "execution_count": 8,
     "metadata": {},
     "output_type": "execute_result"
    }
   ],
   "source": [
    "images[0].dtype"
   ]
  },
  {
   "cell_type": "code",
   "execution_count": 9,
   "metadata": {},
   "outputs": [
    {
     "data": {
      "text/plain": [
       "array([ 997,  164,   49,  199,  839,  166,  310,  984, 1053,  930,   16,\n",
       "        912,  796,  826,  749,   34,  736,  286,  175,  361,  133,  967,\n",
       "        368,  424,  837,  439,  873,  851,  773,  599,  293,  864,  135,\n",
       "         42,  448,  357,  868,  284,   20,  833,  872,  602,  609, 1044,\n",
       "        294,  780,  318,  534,  933,  628,  517,  648,  518,  528,  852,\n",
       "        418,  273, 1054,  275,  214,   33,  560,  701,  756,  331, 1007,\n",
       "        406,  675,  958,  531,  165,  458,  141,  730,  834,  613,   89,\n",
       "        391,  486,  798,  435,  676,  514,  911,  347,  559,  600,  897,\n",
       "        629,  588,  532,  654,  963,  878,  937,  825,  639,  738,  410,\n",
       "        378])"
      ]
     },
     "execution_count": 9,
     "metadata": {},
     "output_type": "execute_result"
    }
   ],
   "source": [
    "label"
   ]
  },
  {
   "cell_type": "markdown",
   "metadata": {
    "colab_type": "text",
    "id": "3OR2r-mpNQET"
   },
   "source": [
    "## 定義資料增補(Data Augmentation)"
   ]
  },
  {
   "cell_type": "code",
   "execution_count": 24,
   "metadata": {
    "colab": {},
    "colab_type": "code",
    "id": "-oYE2VzuNQEU"
   },
   "outputs": [],
   "source": [
    "# https://www.tensorflow.org/tutorials/images/data_augmentation\n",
    "# RandomFlip(\"horizontal\")：水平翻轉\n",
    "# RandomRotation(0.1)：旋轉 0.1 比例 \n",
    "data_augmentation = keras.Sequential(\n",
    "    [\n",
    "#         layers.RandomFlip(\"horizontal\"),\n",
    "#         layers.RandomZoom(height_factor=(-0.1, 0.1), width_factor=(-0.1, 0.1)),\n",
    "#         layers.RandomFlip(\"horizontal_and_vertical\"),\n",
    "        layers.RandomRotation(0.1),\n",
    "#         layers.RandomWidth(0.5),\n",
    "    ]\n",
    ")"
   ]
  },
  {
   "cell_type": "markdown",
   "metadata": {
    "colab_type": "text",
    "id": "srOOhshxNQEX"
   },
   "source": [
    "## 顯示資料增補後的影像"
   ]
  },
  {
   "cell_type": "code",
   "execution_count": 11,
   "metadata": {},
   "outputs": [
    {
     "data": {
      "text/plain": [
       "((100, 50, 50, 1),\n",
       " array([ 782,  510,  474,  348,  278,   34,  955,  294,  361, 1056,  143,\n",
       "          27,  818,  326,  887,  937,  806,  148,  504,  448,  210,  937,\n",
       "         577, 1089,  725,  112,  444,  613,  741,  141,  636,  446,  865,\n",
       "         725,  121, 1003,  169,   68,  873,  943, 1023,  868,  620,   16,\n",
       "         458,  512,  349,  318, 1044,  733,  649, 1010,  446,  952,  456,\n",
       "         855,  591,  749,  577,  683,  476,   86,  154,  439,  376,  711,\n",
       "         439,  114,  178,  123,  600, 1005,   89,  225,  839,  695, 1044,\n",
       "           7,  572,  919,  736,  537,  825,   96,   58,  648,  130,  127,\n",
       "         272,  159,  297,  284,  521,  186,  873,  852,   75,  288,  935,\n",
       "         948]))"
      ]
     },
     "execution_count": 11,
     "metadata": {},
     "output_type": "execute_result"
    }
   ],
   "source": [
    "data = train_ds.take(1)\n",
    "data = list(data.as_numpy_iterator())\n",
    "images = data[0][0]\n",
    "label = data[0][1]   \n",
    "\n",
    "images.shape, label"
   ]
  },
  {
   "cell_type": "code",
   "execution_count": 12,
   "metadata": {
    "colab": {},
    "colab_type": "code",
    "id": "FrCxObm4NQEX"
   },
   "outputs": [
    {
     "data": {
      "image/png": "[encoded data removed]",
      "text/plain": [
       "<Figure size 720x720 with 25 Axes>"
      ]
     },
     "metadata": {
      "needs_background": "light"
     },
     "output_type": "display_data"
    }
   ],
   "source": [
    "# 顯示資料增補後的影像\n",
    "# prefetch 就沒有效果了\n",
    "plt.figure(figsize=(10, 10))\n",
    "for i in range(25):\n",
    "    augmented_images = data_augmentation(images[0:1])\n",
    "    ax = plt.subplot(5, 5, i + 1)\n",
    "    plt.imshow(augmented_images[0], cmap='Greys_r')\n",
    "    plt.axis(\"off\")\n",
    "# print(augmented_images.shape)"
   ]
  },
  {
   "cell_type": "markdown",
   "metadata": {
    "colab_type": "text",
    "id": "yQzkguzyNQEa"
   },
   "source": [
    "## prefetch：預先讀取訓練資料，以提升效能"
   ]
  },
  {
   "cell_type": "code",
   "execution_count": 25,
   "metadata": {
    "colab": {},
    "colab_type": "code",
    "id": "iFrHB7hlNQEa"
   },
   "outputs": [],
   "source": [
    "train_ds = train_ds.prefetch(buffer_size=batch_size)\n",
    "val_ds = val_ds.prefetch(buffer_size=batch_size)"
   ]
  },
  {
   "cell_type": "markdown",
   "metadata": {
    "colab_type": "text",
    "id": "lm6GMvBsNQEc"
   },
   "source": [
    "## 建立模型"
   ]
  },
  {
   "cell_type": "code",
   "execution_count": 26,
   "metadata": {},
   "outputs": [
    {
     "data": {
      "text/plain": [
       "(50, 50, 1)"
      ]
     },
     "execution_count": 26,
     "metadata": {},
     "output_type": "execute_result"
    }
   ],
   "source": [
    "image_size + (1,)"
   ]
  },
  {
   "cell_type": "code",
   "execution_count": 27,
   "metadata": {
    "colab": {},
    "colab_type": "code",
    "id": "0aU0akvsNQEd"
   },
   "outputs": [],
   "source": [
    "# 定義模型\n",
    "def make_model(input_shape, num_classes):\n",
    "    inputs = keras.Input(shape=input_shape)\n",
    "    # Image augmentation block\n",
    "    x = data_augmentation(inputs)\n",
    "\n",
    "    # 特徵縮放\n",
    "    x = layers.Rescaling(1.0 / 255)(x)\n",
    "    x = layers.Conv2D(32, 3, strides=2, padding=\"same\")(x)\n",
    "    x = layers.BatchNormalization()(x)\n",
    "    x = layers.Activation(\"relu\")(x)\n",
    "\n",
    "    x = layers.Conv2D(64, 3, padding=\"same\")(x)\n",
    "    x = layers.BatchNormalization()(x)\n",
    "    x = layers.Activation(\"relu\")(x)\n",
    "\n",
    "    previous_block_activation = x  # Set aside residual\n",
    "\n",
    "    for size in [128, 256, 512, 728]:\n",
    "        x = layers.Activation(\"relu\")(x)\n",
    "        x = layers.SeparableConv2D(size, 3, padding=\"same\")(x)\n",
    "        x = layers.BatchNormalization()(x)\n",
    "\n",
    "        x = layers.Activation(\"relu\")(x)\n",
    "        x = layers.SeparableConv2D(size, 3, padding=\"same\")(x)\n",
    "        x = layers.BatchNormalization()(x)\n",
    "\n",
    "        x = layers.MaxPooling2D(3, strides=2, padding=\"same\")(x)\n",
    "\n",
    "        # Project residual\n",
    "        residual = layers.Conv2D(size, 1, strides=2, padding=\"same\")(\n",
    "            previous_block_activation\n",
    "        )\n",
    "        x = layers.add([x, residual])  # Add back residual\n",
    "        previous_block_activation = x  # Set aside next residual\n",
    "\n",
    "    x = layers.SeparableConv2D(1024, 3, padding=\"same\")(x)\n",
    "    x = layers.BatchNormalization()(x)\n",
    "    x = layers.Activation(\"relu\")(x)\n",
    "\n",
    "    x = layers.GlobalAveragePooling2D()(x)\n",
    "    activation = \"softmax\"\n",
    "    units = num_classes\n",
    "\n",
    "    x = layers.Dropout(0.2)(x)\n",
    "    outputs = layers.Dense(units, activation=activation)(x)\n",
    "    return keras.Model(inputs, outputs)\n",
    "\n",
    "# 建立模型\n",
    "model = make_model(input_shape=image_size + (1,), num_classes=len(label_list))\n",
    "# 繪製模型結構\n",
    "# keras.utils.plot_model(model, show_shapes=True)"
   ]
  },
  {
   "cell_type": "markdown",
   "metadata": {
    "colab_type": "text",
    "id": "iJFF8NStNQEf"
   },
   "source": [
    "## 訓練模型"
   ]
  },
  {
   "cell_type": "code",
   "execution_count": 28,
   "metadata": {
    "colab": {},
    "colab_type": "code",
    "id": "b7rWDOBRNQEf"
   },
   "outputs": [
    {
     "name": "stdout",
     "output_type": "stream",
     "text": [
      "Epoch 1/5\n",
      "433/433 [==============================] - 56s 124ms/step - loss: 5.1270 - accuracy: 0.0949 - val_loss: 6.5518 - val_accuracy: 0.0074\n",
      "Epoch 2/5\n",
      "433/433 [==============================] - 54s 123ms/step - loss: 1.9566 - accuracy: 0.5075 - val_loss: 20.1166 - val_accuracy: 0.0101\n",
      "Epoch 3/5\n",
      "433/433 [==============================] - 54s 125ms/step - loss: 1.0792 - accuracy: 0.7079 - val_loss: 7.8666 - val_accuracy: 0.1124\n",
      "Epoch 4/5\n",
      "433/433 [==============================] - 54s 124ms/step - loss: 0.7647 - accuracy: 0.7841 - val_loss: 28.1481 - val_accuracy: 0.0143\n",
      "Epoch 5/5\n",
      "433/433 [==============================] - 54s 124ms/step - loss: 0.5975 - accuracy: 0.8270 - val_loss: 1.3059 - val_accuracy: 0.6938\n"
     ]
    },
    {
     "data": {
      "text/plain": [
       "<keras.callbacks.History at 0x1a6c4307040>"
      ]
     },
     "execution_count": 28,
     "metadata": {},
     "output_type": "execute_result"
    }
   ],
   "source": [
    "epochs = 5\n",
    "\n",
    "# 設定優化器(optimizer)、損失函數(loss)、效能衡量指標(metrics)的類別\n",
    "model.compile(\n",
    "    optimizer=keras.optimizers.Adam(),\n",
    "    loss=\"sparse_categorical_crossentropy\",\n",
    "    metrics=[\"accuracy\"],\n",
    ")\n",
    "\n",
    "# 模型訓練\n",
    "model.fit(\n",
    "    train_ds, epochs=epochs, validation_data=val_ds\n",
    ")"
   ]
  },
  {
   "cell_type": "markdown",
   "metadata": {
    "colab_type": "text",
    "id": "pbhiW9FfNQEj"
   },
   "source": [
    "### 訓練 50 epochs，驗證準確率可達 96%."
   ]
  },
  {
   "cell_type": "markdown",
   "metadata": {
    "colab_type": "text",
    "id": "etzhur02NQEj"
   },
   "source": [
    "## 從目錄中任選一個檔案測試"
   ]
  },
  {
   "cell_type": "code",
   "execution_count": 29,
   "metadata": {},
   "outputs": [],
   "source": [
    "with open('./labels.txt', 'r', encoding='utf8') as f:\n",
    "    text = f.read()\n",
    "labels = {}    \n",
    "for i, item in enumerate(text.split('\\n')):\n",
    "    labels[i]=item"
   ]
  },
  {
   "cell_type": "code",
   "execution_count": 40,
   "metadata": {
    "colab": {},
    "colab_type": "code",
    "id": "-FC2thF3NQEk"
   },
   "outputs": [],
   "source": [
    "# 任取一筆資料測試\n",
    "import os, numpy as np\n",
    "\n",
    "def predict(file_path):\n",
    "    img = keras.preprocessing.image.load_img(\n",
    "        file_path, target_size=image_size, color_mode=\"grayscale\"\n",
    "    )\n",
    "    img_array = keras.preprocessing.image.img_to_array(img) # 將影像轉為陣列\n",
    "    img_array = tf.expand_dims(img_array, 0)  # 增加一維在最前面，代表一筆資料\n",
    "    print(img_array.shape)\n",
    "    predictions = model.predict(img_array)\n",
    "    pred = np.argmax(predictions, axis=-1)[0]\n",
    "    score = np.max(predictions, axis=-1)[0]\n",
    "    print(f\"預測={labels[pred]}, 機率= {(100 * score):.2f}%\")"
   ]
  },
  {
   "cell_type": "code",
   "execution_count": 41,
   "metadata": {},
   "outputs": [
    {
     "name": "stdout",
     "output_type": "stream",
     "text": [
      "(1, 50, 50, 1)\n",
      "1/1 [==============================] - 0s 17ms/step\n",
      "預測=博, 機率= 68.18%\n"
     ]
    }
   ],
   "source": [
    "predict(r\".\\image_data\\博\\7.png\")"
   ]
  },
  {
   "cell_type": "code",
   "execution_count": 42,
   "metadata": {},
   "outputs": [
    {
     "name": "stdout",
     "output_type": "stream",
     "text": [
      "(1, 50, 50, 1)\n",
      "1/1 [==============================] - 0s 16ms/step\n",
      "預測=乙, 機率= 99.99%\n"
     ]
    }
   ],
   "source": [
    "predict(r\".\\image_data\\乙\\7.png\")"
   ]
  },
  {
   "cell_type": "code",
   "execution_count": 43,
   "metadata": {},
   "outputs": [
    {
     "name": "stdout",
     "output_type": "stream",
     "text": [
      "(1, 50, 50, 1)\n",
      "1/1 [==============================] - 0s 17ms/step\n",
      "預測=丐, 機率= 99.96%\n"
     ]
    }
   ],
   "source": [
    "predict(r\".\\image_data\\丐\\7.png\")"
   ]
  },
  {
   "cell_type": "code",
   "execution_count": 32,
   "metadata": {},
   "outputs": [
    {
     "data": {
      "text/plain": [
       "(9, 50, 50, 1)"
      ]
     },
     "execution_count": 32,
     "metadata": {},
     "output_type": "execute_result"
    },
    {
     "data": {
      "image/png": "[encoded data removed]",
      "text/plain": [
       "<Figure size 720x720 with 9 Axes>"
      ]
     },
     "metadata": {
      "needs_background": "light"
     },
     "output_type": "display_data"
    }
   ],
   "source": [
    "data = train_ds.take(1)\n",
    "data = list(data.as_numpy_iterator())\n",
    "images = data[0][0]\n",
    "label = data[0][1]   \n",
    "\n",
    "true_labels_list=[]\n",
    "# 顯示訓練資料前9筆影像\n",
    "plt.figure(figsize=(10, 10))\n",
    "for i in range(9):\n",
    "    ax = plt.subplot(3, 3, i + 1)\n",
    "    plt.imshow(images[i].astype(int), cmap='Greys_r')\n",
    "    plt.title(label_list[int(label[i])] + ' ' + str(int(label[i])))\n",
    "    plt.axis(\"off\")\n",
    "    true_labels_list += [int(label[i])]\n",
    "    images_expand = np.expand_dims(images[i].astype(int),0)\n",
    "    if i==0:\n",
    "        test_images = images_expand\n",
    "    else:\n",
    "        test_images = np.concatenate((test_images, images_expand), axis=0)\n",
    "test_images.shape"
   ]
  },
  {
   "cell_type": "code",
   "execution_count": 33,
   "metadata": {
    "scrolled": false
   },
   "outputs": [
    {
     "name": "stdout",
     "output_type": "stream",
     "text": [
      "1/1 [==============================] - 0s 234ms/step\n",
      "[1060, 154, 84, 560, 255, 841, 786, 151, 280]\n",
      "[1060, 154, 84, 560, 255, 841, 786, 160, 83]\n",
      "將, 俎, 以, 咨, 儡, 多, 堯, 促, 全, \n",
      "將, 俎, 以, 咨, 儡, 多, 堯, 俚, 令, "
     ]
    }
   ],
   "source": [
    "# 預測\n",
    "predictions = model.predict(test_images)\n",
    "print(true_labels_list)\n",
    "print(list(np.argmax(predictions, axis=-1)))\n",
    "\n",
    "for pred in true_labels_list:\n",
    "    print(labels[pred], end=', ')\n",
    "print()    \n",
    "for pred in np.argmax(predictions, axis=-1):\n",
    "    print(labels[pred], end=', ')    "
   ]
  },
  {
   "cell_type": "code",
   "execution_count": 34,
   "metadata": {},
   "outputs": [],
   "source": [
    "# 模型存檔\n",
    "model.save('./chinese_model.h5')"
   ]
  },
  {
   "cell_type": "code",
   "execution_count": 35,
   "metadata": {},
   "outputs": [],
   "source": [
    "# 模型載入\n",
    "model = tf.keras.models.load_model('./chinese_model.h5')"
   ]
  },
  {
   "cell_type": "code",
   "execution_count": null,
   "metadata": {},
   "outputs": [],
   "source": []
  }
 ],
 "metadata": {
  "colab": {
   "collapsed_sections": [],
   "name": "image_classification_from_scratch",
   "provenance": [],
   "toc_visible": true
  },
  "kernelspec": {
   "display_name": "Python 3 (ipykernel)",
   "language": "python",
   "name": "python3"
  },
  "language_info": {
   "codemirror_mode": {
    "name": "ipython",
    "version": 3
   },
   "file_extension": ".py",
   "mimetype": "text/x-python",
   "name": "python",
   "nbconvert_exporter": "python",
   "pygments_lexer": "ipython3",
   "version": "3.9.12"
  }
 },
 "nbformat": 4,
 "nbformat_minor": 1
}
