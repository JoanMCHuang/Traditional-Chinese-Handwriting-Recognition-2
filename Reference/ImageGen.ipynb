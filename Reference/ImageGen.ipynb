{
 "cells": [
  {
   "cell_type": "markdown",
   "metadata": {},
   "source": [
    "# 資料增補 (Data Augmentation)"
   ]
  },
  {
   "cell_type": "code",
   "execution_count": 3,
   "metadata": {
    "colab": {},
    "colab_type": "code",
    "id": "PWuaygl9NQD-"
   },
   "outputs": [],
   "source": [
    "# 載入套件\n",
    "import tensorflow as tf\n",
    "from tensorflow import keras\n",
    "from tensorflow.keras import layers\n",
    "from tensorflow.keras.preprocessing.image import ImageDataGenerator"
   ]
  },
  {
   "cell_type": "markdown",
   "metadata": {
    "colab_type": "text",
    "id": "CNThHNSINQEN"
   },
   "source": [
    "## 以檔案目錄為基礎，建立訓練(Training)及驗證(Validation)資料集(Dataset)"
   ]
  },
  {
   "cell_type": "code",
   "execution_count": 4,
   "metadata": {},
   "outputs": [
    {
     "data": {
      "text/plain": [
       "'丁, 七, 丈, 三, 上, 下, 不, 丐, 丑, 且, 丕, 世, 丘, 丙, 丞, 丟, 並, 丫, 中, 串, 丸, 丹, 主, 乃, 久, 么, 之, 乍, 乎, 乏, 乒, 乓, 乖, 乘, 乙, 九, 乞, 也, 乩, 乳, 乾, 亂, 了, 予, 事, 二, 于, 云, 互, 五, 井, 亙, 些, 亞, 亟, 亡, 交, 亥, 亦, 亨, 享, 京, 亭, 亮, 人, 什, 仁, 仃, 仄, 仆, 仇, 今, 介, 仍, 仔, 仕, 他, 仗, 付, 仙, 仞, 仟, 代, 令, 以, 仰, 仲, 仳, 件, 任, 份, 仿, 企, 伉, 伊, 伍, 伏, 伐, 休, 伕, 伙, 伯, 估, 伴, 伶, 伸, 伺, 似, 伽, 佃, 但, 佇, 位, 低, 住, 佐, 佑, 佔, 何, 佗, 余, 佛, 作, 佝, 佞, 你, 佣, 佩, 佬, 佯, 佰, 佳, 併, 佻, 佾, 使, 侃, 來, 侈, 例, 侍, 侏, 侖, 供, 依, 侮, 侯, 侵, 侶, 便, 係, 促, 俄, 俊, 俎, 俏, 俐, 俑, 俗, 俘, 俚, 保, 俞, 俟, 俠, 信, 修, 俯, 俱, 俳, 俸, 俺, 俾, 倀, 倆, 倉, 個, 倌, 倍, 倏, 們, 倒, 倔, 倖, 倘, 候, 倚, 借, 倡, 倣, 倥, 倦, 倨, 倩, 倪, 倫, 倭, 值, 偃, 假, 偉, 偌, 偎, 偏, 偕, 做, 停, 健, 側, 偵, 偶, 偷, 偺, 偽, 傀, 傅, 傍, 傑, 傖, 傘, 備, 傢, 催, 傭, 傯, 傲, 傳, 債, 傷, 傻, 傾, 僅, 像, 僑, 僕, 僖, 僚, 僥, 僧, 僭, 僮, 僱, 僵, 價, 僻, 儀, 儂, 億, 儈, 儉, 儐, 儒, 儔, 儘, 償, 儡, 優, 儲, 儷, 儼, 兀, 允, 元, 兄, 充, 兆, 兇, 先, 光, 克, 兌, 免, 兒, 兔, 兕, 兗, 兜, 兢, 入, 內, 全, 兩, 八, 公, 六, 兮, 共, 兵, 其, 具, 典, 兼, 冀, 冉, 冊, 再, 冑, 冒, 冕, 冗, 冠, 冢, 冤, 冥, 冬, 冰, 冶, 冷, 冽, 准, 凋, 凌, 凍, 凜, 凝, 几, 凡, 凰, 凱, 凳, 凶, 凸, 凹, 出, 函, 刀, 刁, 刃, 分, 切, 刈, 刊, 刎, 刑, 划, 列, 初, 判, 別, 刨, 利, 刪, 刮, 到, 制, 刷, 券, 刻, 剁, 剃, 則, 削, 剋, 剌, 前, 剎, 剔, 剖, 剛, 剜, 剝, 剩, 剪, 副, 割, 剴, 創, 剷, 剽, 剿, 劃, 劇, 劈, 劉, 劍, 劑, 力, 功, 加, 劣, 助, 努, 劫, 劬, 劾, 勁, 勃, 勇, 勉, 勒, 動, 勗, 勘, 務, 勛, 勝, 勞, 募, 勢, 勤, 勦, 勵, 勸, 勻, 勾, 勿, 包, 匆, 匈, 匍, 匏, 匐, 匕, 化, 北, 匙, 匝, 匠, 匡, 匣, 匪, 匯, 匱, 匹, 匾, 匿, 區, 十, 千, 卅, 升, 午, 卉, 半, 卑, 卒, 卓, 協, 南, 博, 卜, 卞, 占, 卡, 卦, 卮, 卯, 印, 危, 即, 卵, 卷, 卸, 卹, 卻, 卿, 厄, 厚, 厝, 原, 厥, 厭, 厲, 去, 參, 又, 叉, 及, 友, 反, 叔, 取, 受, 叛, 叟, 叢, 口, 古, 句, 另, 叨, 叩, 只, 叫, 召, 叭, 叮, 可, 台, 叱, 史, 右, 叵, 司, 叼, 吁, 吃, 各, 吆, 合, 吉, 吊, 吋, 同, 名, 后, 吏, 吐, 向, 吒, 君, 吝, 吞, 吟, 吠, 否, 吧, 吩, 含, 吭, 吮, 吱, 吳, 吵, 吶, 吸, 吹, 吻, 吼, 吾, 呀, 呂, 呃, 呆, 呈, 告, 呎, 呢, 周, 呱, 味, 呵, 呶, 呷, 呸, 呻, 呼, 命, 咀, 咄, 咆, 咋, 和, 咎, 咐, 咒, 咕, 咖, 咚, 咦, 咨, 咪, 咫, 咬, 咯, 咱, 咳, 咸, 咻, 咽, 哀, 品, 哂, 哄, 哇, 哈, 哉, 哎, 員, 哥, 哦, 哨, 哩, 哪, 哭, 哮, 哲, 哺, 哼, 唁, 唆, 唉, 唐, 唔, 唧, 唬, 售, 唯, 唱, 唳, 唷, 唸, 唾, 啃, 啄, 商, 啊, 問, 啕, 啖, 啜, 啞, 啟, 啡, 啣, 啤, 啦, 啪, 啻, 啼, 啾, 喀, 喂, 喃, 善, 喇, 喉, 喊, 喋, 喔, 喘, 喚, 喜, 喝, 喟, 喧, 喪, 喬, 單, 喱, 喲, 喳, 喻, 嗅, 嗆, 嗇, 嗎, 嗑, 嗓, 嗚, 嗜, 嗟, 嗡, 嗣, 嗤, 嗥, 嗦, 嗨, 嗯, 嗷, 嗽, 嗾, 嘀, 嘆, 嘈, 嘉, 嘍, 嘎, 嘔, 嘖, 嘗, 嘛, 嘟, 嘩, 嘮, 嘯, 嘰, 嘲, 嘴, 嘶, 嘹, 嘻, 嘿, 噎, 噓, 噗, 噙, 噢, 噤, 噥, 器, 噩, 噪, 噫, 噬, 噯, 噱, 噴, 噸, 噹, 嚀, 嚅, 嚇, 嚎, 嚏, 嚐, 嚕, 嚥, 嚨, 嚮, 嚴, 嚶, 嚷, 嚼, 囀, 囁, 囂, 囈, 囉, 囊, 囌, 囑, 囚, 四, 回, 因, 囤, 囪, 困, 固, 圃, 圈, 國, 圍, 園, 圓, 圖, 團, 土, 在, 圬, 圭, 圯, 地, 圳, 圾, 址, 均, 坊, 坍, 坎, 坏, 坐, 坑, 坡, 坤, 坦, 坩, 坪, 坷, 坼, 垂, 垃, 型, 垠, 垢, 垣, 垮, 埂, 埃, 埋, 城, 埔, 域, 埠, 埤, 執, 培, 基, 堂, 堅, 堆, 堊, 堡, 堤, 堪, 堯, 堰, 報, 場, 堵, 塊, 塌, 塑, 塔, 塗, 塘, 塚, 塞, 塢, 填, 塭, 塵, 塹, 塾, 墀, 境, 墅, 墊, 墓, 墜, 增, 墟, 墨, 墮, 墳, 墾, 壁, 壅, 壇, 壑, 壓, 壕, 壘, 壙, 壞, 壟, 壢, 壤, 壩, 士, 壬, 壯, 壹, 壺, 壽, 夏, 夔, 夕, 外, 夙, 多, 夜, 夠, 夢, 夤, 夥, 大, 天, 太, 夫, 夭, 央, 失, 夷, 夸, 夾, 奄, 奇, 奈, 奉, 奎, 奏, 奐, 契, 奔, 奕, 套, 奘, 奚, 奠, 奢, 奧, 奩, 奪, 奮, 女, 奴, 奶, 奸, 她, 好, 妁, 如, 妃, 妄, 妊, 妍, 妒, 妓, 妖, 妙, 妝, 妞, 妣, 妤, 妥, 妨, 妮, 妯, 妳, 妹, 妻, 妾, 姆, 姊, 始, 姍, 姐, 姑, 姒, 姓, 委, 姘, 姚, 姜, 姣, 姥, 姦, 姨, 姪, 姬, 姻, 姿, 威, 娃, 娌, 娑, 娓, 娘, 娛, 娜, 娟, 娠, 娣, 娥, 娩, 娶, 娼, 婀, 婁, 婆, 婉, 婊, 婚, 婢, 婦, 婪, 婷, 婿, 媒, 媚, 媛, 媲, 媳, 媼, 媽, 媾, 嫁, 嫂, 嫉, 嫌, 嫖, 嫗, 嫘, 嫡, 嫣, 嫦, 嫩, 嫵, 嫻, 嬉, 嬋, 嬌, 嬝, 嬤, 嬪, 嬰, 嬴, 嬸, 孀, 子, 孑, 孓, 孔, 孕, 字, 存, 孚, 孜, 孝, 孟, 季, 孤, 孩, 孫, 孰, 孱, 孳, 孵, 學, 孺, 孽, 孿, 它, 宅, 宇, 守, 安, 宋, 完, 宏, 宗, 官, 宙, 定, 宛, 宜, 客, 宣, 室, 宥, 宦, 宮, 宰, 害, 宴, 宵, 家, 宸, 容, 宿, 寂, 寄, 寅, 密, 寇, 富, 寐, 寒, 寓, 寞, 察, 寡, 寢, 寤, 寥, 實, 寧, 寨, 審, 寫, 寬, 寮, 寵, 寶, 寸, 寺, 封, 射, 將, 專, 尉, 尊, 尋, 對, 導, 小, 少, 尖, 尚, 尤, 尬, 就, 尷, 尸, 尹, 尺, 尼, 尾, 尿, 局, 屁, 居, 屆, 屈, 屋, 屍, 屎, 屏, 屐, 屑, 展, 屜, 屠, 屢, 層, 履, 屬, 屯, 山, 屹, 岌, 岐, 岑, 岔, 岡, 岩, 岫, 岱, 岳, 岷, 岸, 峨, 峪, 峭, 峰, 島, 峻, 崁, 崆, 崇, 崎, 崑, 崔, 崖, 崙, 崢, 崩, 嵌, 嵐, 嵩, 嶄, 嶇, 嶝, 嶺, 嶼, 巒, 巔, 州, 巡, 巢, 工, 巧, 巨, 差, 己, 已, 巴, 巷, 巽, 巾, 布, 帆, 希, 帕, 帚, 帛, 帝, 帥, 師, 席, 帽, 幀, 幌, 幗, 幣, 幫, 干, 平, 年, 并, 幸, 幹, 幻, 庇, 序, 底, 庖, 庚, 府, 座, 庫, 庭, 康, 庾, 廈, 廓, 廖, 廝, 廟, 廢, 廳, 廷, 廿, 弄, 式, 弒, 引, 弘, 弟, 弧, 張, 強, 彆, 彎, 彗, 彙, 形, 彪, 彭, 影, 征, 待, 徇, 律, 徑, 徘, 從, 御, 徨, 徬, 忌, 忖, 志, 忱, 忽, 怎, 怠, 怡, 性, 怨, 怯, 恐, 恙, 恢, 恣, 恫, 恬, 恭, 恰, 悅, 悉, 患, 您, 悴, 悵, 悶, 悸, 悼, 惆, 惋, 惡, 惴, 惶, 愛, 感, 愣, 態, 慝, 慫, 憂, 憔, 憧, 憬, 憲, 憶, 懇, 懶, 懾, 懿, 戈, 戊, 戟, 戶, 打, 扯, 扳, 承, 把, 折, 抹, 押, 拆, 拈, 拗, 拚, 拾, 拿, 挈, 捆, 授, 掉, 探, 揍, 揚, 揩, 揭, 援, 搪, 摑, 摟, 攣, 攫, 斷'"
      ]
     },
     "execution_count": 4,
     "metadata": {},
     "output_type": "execute_result"
    }
   ],
   "source": [
    "import os\n",
    "label_list = list(os.listdir('image_data'))\n",
    "', '.join(label_list)"
   ]
  },
  {
   "cell_type": "markdown",
   "metadata": {
    "colab_type": "text",
    "id": "3OR2r-mpNQET"
   },
   "source": [
    "## 定義資料增補(Data Augmentation)"
   ]
  },
  {
   "cell_type": "code",
   "execution_count": 8,
   "metadata": {},
   "outputs": [],
   "source": [
    "# https://medium.com/@shihaoticking/實作資料強化-data-augmentation-實現圖片翻轉-平移-縮放-4b37d4400ffb\n",
    "image_gen_train = ImageDataGenerator(\n",
    "#     rescale=1./255,               # 從0~255整數，壓縮為0~1浮點數\n",
    "    rotation_range=10,            # 隨機旋轉 ±10°\n",
    "    width_shift_range=.15,        # 隨機水平移動 ±15%\n",
    "    height_shift_range=.15,       # 隨機垂直移動 ±15%\n",
    "#     horizontal_flip=True,         # 隨機水平翻轉\n",
    "    zoom_range=0.2                # 隨機縮放 20%\n",
    ")\n",
    "\n",
    "image_gen_test = ImageDataGenerator(\n",
    ")"
   ]
  },
  {
   "cell_type": "code",
   "execution_count": 15,
   "metadata": {
    "colab": {},
    "colab_type": "code",
    "id": "ufL6yMc-NQEO"
   },
   "outputs": [
    {
     "name": "stdout",
     "output_type": "stream",
     "text": [
      "Found 54107 images belonging to 1305 classes.\n",
      "Found 54107 images belonging to 1305 classes.\n"
     ]
    }
   ],
   "source": [
    "# image_dataset_from_directory：讀取目錄中的檔案，存入 dataset\n",
    "# image_dataset_from_directory：tf v2.3.0 才支援\n",
    "\n",
    "image_size = (50, 50)  # 影像尺寸\n",
    "batch_size = 100          # 批量\n",
    "directory = './image_data'\n",
    "\n",
    "# 訓練資料集(Dataset)\n",
    "train_data_gen = image_gen_train.flow_from_directory(\n",
    "    directory=directory,\n",
    "    target_size=image_size,\n",
    "    batch_size=batch_size,\n",
    "    color_mode=\"grayscale\", \n",
    "    class_mode='sparse'\n",
    ")\n",
    "\n",
    "# 驗證(Validation)資料集\n",
    "val_data_gen = image_gen_test.flow_from_directory(\n",
    "    directory=directory,\n",
    "    target_size=image_size,\n",
    "    batch_size=batch_size,\n",
    "    color_mode=\"grayscale\", \n",
    "    class_mode='sparse'\n",
    ")"
   ]
  },
  {
   "cell_type": "markdown",
   "metadata": {
    "colab_type": "text",
    "id": "lm6GMvBsNQEc"
   },
   "source": [
    "## 建立模型"
   ]
  },
  {
   "cell_type": "code",
   "execution_count": 16,
   "metadata": {},
   "outputs": [
    {
     "data": {
      "text/plain": [
       "(50, 50, 1)"
      ]
     },
     "execution_count": 16,
     "metadata": {},
     "output_type": "execute_result"
    }
   ],
   "source": [
    "image_size + (1,)"
   ]
  },
  {
   "cell_type": "code",
   "execution_count": 33,
   "metadata": {
    "colab": {},
    "colab_type": "code",
    "id": "0aU0akvsNQEd"
   },
   "outputs": [],
   "source": [
    "# 定義模型\n",
    "from tensorflow.keras.layers import *\n",
    "\n",
    "def make_model(input_shape, num_classes):\n",
    "    model = tf.keras.models.Sequential()\n",
    "\n",
    "    model.add(layers.Rescaling(1.0 / 255, input_shape=input_shape))\n",
    "    model.add(Conv2D(filters=32, kernel_size=(5,5), activation='relu'))\n",
    "    model.add(Conv2D(filters=32, kernel_size=(5,5), activation='relu'))\n",
    "    model.add(MaxPool2D(pool_size=(2, 2)))\n",
    "    model.add(Dropout(rate=0.2))\n",
    "\n",
    "    model.add(Conv2D(filters=64, kernel_size=(3, 3), activation='relu'))\n",
    "    model.add(Conv2D(filters=64, kernel_size=(3, 3), activation='relu'))\n",
    "    model.add(MaxPool2D(pool_size=(2, 2)))\n",
    "    model.add(Dropout(rate=0.2))\n",
    "\n",
    "    model.add(Flatten())\n",
    "    model.add(Dense(256, activation='relu'))\n",
    "    model.add(Dropout(rate=0.2))\n",
    "    model.add(Dense(num_classes, activation='softmax'))\n",
    "    return model\n",
    "\n",
    "# 建立模型\n",
    "model = make_model(input_shape=image_size + (1,), num_classes=len(label_list))\n",
    "# 繪製模型結構\n",
    "# keras.utils.plot_model(model, show_shapes=True)"
   ]
  },
  {
   "cell_type": "markdown",
   "metadata": {
    "colab_type": "text",
    "id": "iJFF8NStNQEf"
   },
   "source": [
    "## 訓練模型"
   ]
  },
  {
   "cell_type": "code",
   "execution_count": 34,
   "metadata": {},
   "outputs": [
    {
     "name": "stdout",
     "output_type": "stream",
     "text": [
      "Epoch 1/15\n",
      "542/542 [==============================] - 50s 91ms/step - loss: 7.0311 - accuracy: 7.2079e-04 - val_loss: 7.2098 - val_accuracy: 0.0017\n",
      "Epoch 2/15\n",
      "542/542 [==============================] - 49s 91ms/step - loss: 6.2782 - accuracy: 0.0071 - val_loss: 7.8062 - val_accuracy: 0.0048\n",
      "Epoch 3/15\n",
      "542/542 [==============================] - 52s 96ms/step - loss: 5.1796 - accuracy: 0.0367 - val_loss: 6.5703 - val_accuracy: 0.0258\n",
      "Epoch 4/15\n",
      "542/542 [==============================] - 50s 92ms/step - loss: 4.1716 - accuracy: 0.1152 - val_loss: 4.9464 - val_accuracy: 0.0970\n",
      "Epoch 5/15\n",
      "542/542 [==============================] - 52s 96ms/step - loss: 3.4172 - accuracy: 0.2164 - val_loss: 2.7698 - val_accuracy: 0.3222\n",
      "Epoch 6/15\n",
      "542/542 [==============================] - 53s 97ms/step - loss: 2.8864 - accuracy: 0.3077 - val_loss: 3.1323 - val_accuracy: 0.3149\n",
      "Epoch 7/15\n",
      "542/542 [==============================] - 55s 101ms/step - loss: 2.5146 - accuracy: 0.3768 - val_loss: 1.7975 - val_accuracy: 0.5258\n",
      "Epoch 8/15\n",
      "542/542 [==============================] - 52s 96ms/step - loss: 2.2347 - accuracy: 0.4365 - val_loss: 1.9855 - val_accuracy: 0.4840\n",
      "Epoch 9/15\n",
      "542/542 [==============================] - 51s 94ms/step - loss: 2.0419 - accuracy: 0.4749 - val_loss: 1.8259 - val_accuracy: 0.5205\n",
      "Epoch 10/15\n",
      "542/542 [==============================] - 54s 99ms/step - loss: 1.8962 - accuracy: 0.5079 - val_loss: 1.2903 - val_accuracy: 0.6417\n",
      "Epoch 11/15\n",
      "542/542 [==============================] - 51s 94ms/step - loss: 1.7768 - accuracy: 0.5328 - val_loss: 1.5976 - val_accuracy: 0.5814\n",
      "Epoch 12/15\n",
      "542/542 [==============================] - 50s 93ms/step - loss: 1.6772 - accuracy: 0.5556 - val_loss: 0.7719 - val_accuracy: 0.7769\n",
      "Epoch 13/15\n",
      "542/542 [==============================] - 51s 94ms/step - loss: 1.5852 - accuracy: 0.5758 - val_loss: 0.9116 - val_accuracy: 0.7406\n",
      "Epoch 14/15\n",
      "542/542 [==============================] - 50s 92ms/step - loss: 1.5179 - accuracy: 0.5937 - val_loss: 1.3402 - val_accuracy: 0.6401\n",
      "Epoch 15/15\n",
      "542/542 [==============================] - 50s 93ms/step - loss: 1.4471 - accuracy: 0.6082 - val_loss: 0.7831 - val_accuracy: 0.7705\n"
     ]
    }
   ],
   "source": [
    "epochs = 15\n",
    "\n",
    "# 設定優化器(optimizer)、損失函數(loss)、效能衡量指標(metrics)的類別\n",
    "model.compile(\n",
    "    optimizer=keras.optimizers.Adam(),\n",
    "    loss=\"sparse_categorical_crossentropy\",\n",
    "    metrics=[\"accuracy\"],\n",
    ")\n",
    "\n",
    "history = model.fit(\n",
    "    train_data_gen,               # 帶入訓練資料產生器\n",
    "    epochs=epochs,                # 將所有資料看過 50 次\n",
    "    validation_data=val_data_gen  # 帶入驗證資料產生器\n",
    ")"
   ]
  },
  {
   "cell_type": "markdown",
   "metadata": {
    "colab_type": "text",
    "id": "pbhiW9FfNQEj"
   },
   "source": [
    "### 訓練 50 epochs，驗證準確率可達 96%."
   ]
  },
  {
   "cell_type": "markdown",
   "metadata": {
    "colab_type": "text",
    "id": "etzhur02NQEj"
   },
   "source": [
    "## 從目錄中任選一個檔案測試"
   ]
  },
  {
   "cell_type": "code",
   "execution_count": 35,
   "metadata": {},
   "outputs": [],
   "source": [
    "with open('./labels.txt', 'r', encoding='utf8') as f:\n",
    "    text = f.read()\n",
    "labels = {}    \n",
    "for i, item in enumerate(text.split('\\n')):\n",
    "    labels[i]=item"
   ]
  },
  {
   "cell_type": "code",
   "execution_count": 36,
   "metadata": {
    "colab": {},
    "colab_type": "code",
    "id": "-FC2thF3NQEk"
   },
   "outputs": [],
   "source": [
    "# 任取一筆資料測試\n",
    "import os, numpy as np\n",
    "\n",
    "def predict(file_path):\n",
    "    img = keras.preprocessing.image.load_img(\n",
    "        file_path, target_size=image_size, color_mode=\"grayscale\"\n",
    "    )\n",
    "    img_array = keras.preprocessing.image.img_to_array(img) # 將影像轉為陣列\n",
    "    img_array = tf.expand_dims(img_array, 0)  # 增加一維在最前面，代表一筆資料\n",
    "    print(img_array.shape)\n",
    "    predictions = model.predict(img_array)\n",
    "    pred = np.argmax(predictions, axis=-1)[0]\n",
    "    score = np.max(predictions, axis=-1)[0]\n",
    "    print(f\"預測={labels[pred]}, 機率= {(100 * score):.2f}%\")"
   ]
  },
  {
   "cell_type": "code",
   "execution_count": 37,
   "metadata": {},
   "outputs": [
    {
     "name": "stdout",
     "output_type": "stream",
     "text": [
      "(1, 50, 50, 1)\n",
      "1/1 [==============================] - 0s 126ms/step\n",
      "預測=博, 機率= 89.53%\n"
     ]
    }
   ],
   "source": [
    "predict(r\".\\image_data\\博\\7.png\")"
   ]
  },
  {
   "cell_type": "code",
   "execution_count": 38,
   "metadata": {},
   "outputs": [
    {
     "name": "stdout",
     "output_type": "stream",
     "text": [
      "(1, 50, 50, 1)\n",
      "1/1 [==============================] - 0s 16ms/step\n",
      "預測=乙, 機率= 99.57%\n"
     ]
    }
   ],
   "source": [
    "predict(r\".\\image_data\\乙\\7.png\")"
   ]
  },
  {
   "cell_type": "code",
   "execution_count": 39,
   "metadata": {},
   "outputs": [
    {
     "name": "stdout",
     "output_type": "stream",
     "text": [
      "(1, 50, 50, 1)\n",
      "1/1 [==============================] - 0s 15ms/step\n",
      "預測=丐, 機率= 89.76%\n"
     ]
    }
   ],
   "source": [
    "predict(r\".\\image_data\\丐\\7.png\")"
   ]
  },
  {
   "cell_type": "code",
   "execution_count": 41,
   "metadata": {},
   "outputs": [],
   "source": [
    "# 模型存檔\n",
    "model.save('./chinese_model_2.h5')"
   ]
  },
  {
   "cell_type": "code",
   "execution_count": 42,
   "metadata": {},
   "outputs": [],
   "source": [
    "# 模型載入\n",
    "model = tf.keras.models.load_model('./chinese_model_2.h5')"
   ]
  },
  {
   "cell_type": "code",
   "execution_count": null,
   "metadata": {},
   "outputs": [],
   "source": []
  }
 ],
 "metadata": {
  "colab": {
   "collapsed_sections": [],
   "name": "image_classification_from_scratch",
   "provenance": [],
   "toc_visible": true
  },
  "kernelspec": {
   "display_name": "Python 3 (ipykernel)",
   "language": "python",
   "name": "python3"
  },
  "language_info": {
   "codemirror_mode": {
    "name": "ipython",
    "version": 3
   },
   "file_extension": ".py",
   "mimetype": "text/x-python",
   "name": "python",
   "nbconvert_exporter": "python",
   "pygments_lexer": "ipython3",
   "version": "3.9.12"
  }
 },
 "nbformat": 4,
 "nbformat_minor": 1
}
