{
 "cells": [
  {
   "cell_type": "code",
   "execution_count": 65,
   "id": "420a8846",
   "metadata": {},
   "outputs": [],
   "source": [
    "# 載入套件\n",
    "import tensorflow as tf\n",
    "from tensorflow import keras\n",
    "from tensorflow.keras import layers"
   ]
  },
  {
   "cell_type": "markdown",
   "id": "a2f45800",
   "metadata": {},
   "source": [
    "## 以檔案目錄為基礎，建立訓練(Training)及驗證(Validation)資料集(Dataset)"
   ]
  },
  {
   "cell_type": "code",
   "execution_count": 66,
   "id": "d008cc67",
   "metadata": {},
   "outputs": [
    {
     "data": {
      "text/plain": [
       "'螳, 螺, 螻, 蟀, 蟆, 蟈, 蟋, 蟑, 蟒, 蟬, 蟯, 蟲, 蟹, 蟻, 蠅, 蠍, 蠔, 蠕, 蠟, 蠡, 蠢, 蠣, 蠱, 蠶, 蠹, 蠻, 血, 行, 衍, 術, 街, 衙, 衛, 衝, 衡, 衢, 衣, 表, 衫, 衰, 衷, 袁, 袂, 袈, 袋, 袍, 袒, 袖, 袞, 被, 袱, 裁, 裂, 裊, 裔, 裕, 裘, 裙, 補, 裝, 裟, 裡, 裨, 裳, 裴, 裸, 裹, 製, 褂, 複, 褐, 褒, 褓, 褚, 褥, 褪, 褫, 褲, 褶, 褸, 褻, 襄, 襖, 襟, 襠, 襤, 襪, 襯, 襲, 西, 要, 覃, 覆, 見, 規, 覓, 視, 覦, 親, 覬, 覲, 覺, 覽, 觀, 角, 解, 觴, 觸, 言, 訂, 訃, 計, 訊, 訌, 討, 訐, 訓, 訕, 訖, 託, 記, 訛, 訝, 訟, 訣, 訥, 訪, 設, 許, 訴, 診, 註, 証, 詁, 詆, 詐, 詔, 評, 詛, 詞, 詠, 詢, 詣, 試, 詩, 詫, 詬, 詭, 詮, 詰, 話, 該, 詳, 詹, 詼, 誅, 誇, 誌, 認, 誑, 誓, 誕, 誘, 語, 誠, 誡, 誣, 誤, 誥, 誦, 誨, 說, 誰, 課, 誼, 調, 諂, 諄, 談, 諉, 請, 諍, 諒, 論, 諜, 諦, 諧, 諫, 諭, 諮, 諱, 諷, 諸, 諺, 諾, 謀, 謁, 謂, 謄, 謊, 謎, 謗, 謙, 講, 謝, 謠, 謨, 謬, 謹, 譁, 證, 譎, 譏, 識, 譚, 譜, 警, 譬, 譯, 議, 譴, 護, 譽, 讀, 變, 讒, 讓, 讖, 讚, 谷, 谿, 豁, 豆, 豈, 豉, 豌, 豎, 豐, 豔, 豕, 豚, 象, 豢, 豪, 豫, 豬, 豹, 豺, 貂, 貉, 貊, 貌, 貍, 貓, 貝, 貞, 負, 財, 貢, 貧, 貨, 販, 貪, 貫, 責, 貯, 貲, 貳, 貴, 貶, 買, 貸, 費, 貼, 貽, 貿, 賀, 賁, 賂, 賃, 賄, 賅, 資, 賈, 賊, 賑, 賒, 賓, 賜, 賞, 賠, 賢, 賣, 賤, 賦, 質, 賬, 賭, 賴, 賺, 購, 賽, 贅, 贈, 贊, 贍, 贏, 贓, 贖, 贗, 贛, 赤, 赦, 赧, 赫, 赭, 走, 赳, 赴, 起, 趁, 超, 越, 趕, 趙, 趟, 趣, 趨, 足, 趴, 趾, 跆, 跋, 跌, 跎, 跑, 跚, 跛, 距, 跟, 跡, 跨, 跪, 路, 跳, 跺, 跼, 踏, 踐, 踝, 踟, 踢, 踩, 踫, 踱, 踴, 踵, 踹, 蹂, 蹄, 蹈, 蹉, 蹊, 蹋, 蹙, 蹣, 蹤, 蹦, 蹬, 蹲, 蹶, 蹺, 蹼, 躁, 躂, 躅, 躇, 躉, 躊, 躍, 躑, 躡, 躪, 身, 躬, 躲, 躺, 軀, 車, 軋, 軌, 軍, 軒, 軔, 軛, 軟, 軸, 軻, 軼, 軾, 較, 載, 輊, 輒, 輓, 輔, 輕, 輛, 輜, 輝, 輟, 輦, 輩, 輪, 輯, 輸, 輻, 輾, 輿, 轂, 轄, 轅, 轉, 轍, 轎, 轔, 轟, 轡, 辛, 辜, 辟, 辣, 辦, 辨, 辭, 辮, 辯, 辰, 辱, 農, 迂, 迄, 迅, 迆, 迎, 近, 返, 迢, 迥, 迦, 迪, 迫, 迭, 述, 迴, 迷, 迺, 追, 退, 送, 逃, 逅, 逆, 逍, 透, 逐, 途, 逕, 逖, 逗, 這, 通, 逛, 逝, 逞, 速, 造, 逢, 連, 逮, 週, 進, 逵, 逸, 逼, 逾, 遁, 遂, 遇, 遊, 運, 遍, 過, 遏, 遐, 遑, 道, 達, 違, 遘, 遙, 遜, 遞, 遠, 遣, 遨, 適, 遭, 遮, 遲, 遴, 遵, 遷, 選, 遺, 遼, 遽, 避, 邀, 邁, 邂, 還, 邇, 邊, 邏, 邐, 邑, 邕, 邢, 那, 邦, 邪, 邱, 邵, 邸, 郁, 郊, 郎, 郡, 部, 郭, 郵, 都, 鄂, 鄉, 鄒, 鄙, 鄧, 鄭, 鄰, 鄱, 鄹, 酉, 酊, 酋, 酌, 配, 酒, 酗, 酣, 酥, 酩, 酪, 酬, 酵, 酷, 酸, 醃, 醇, 醉, 醋, 醒, 醜, 醞, 醣, 醫, 醬, 醺, 釀, 釁, 采, 釉, 釋, 里, 重, 野, 量, 釐, 金, 釗, 釘, 釜, 針, 釣, 釦, 釧, 釵, 鈉, 鈍, 鈐, 鈔, 鈕, 鈞, 鈣, 鈴, 鈷, 鈸, 鈽, 鈾, 鉀, 鉋, 鉑, 鉗, 鉛, 鉤, 鉸, 鉻, 銀, 銅, 銓, 銖, 銘, 銜, 銬, 銳, 銷, 銻, 銼, 鋁, 鋅, 鋒, 鋤, 鋪, 鋸, 鋼, 錄, 錐, 錘, 錚, 錠, 錢, 錦, 錨, 錫, 錯, 錳, 錶, 鍊, 鍋, 鍍, 鍛, 鍥, 鍬, 鍰, 鍵, 鍾, 鎂, 鎊, 鎔, 鎖, 鎢, 鎮, 鎳, 鏃, 鏈, 鏍, 鏑, 鏖, 鏗, 鏘, 鏜, 鏝, 鏟, 鏡, 鏢, 鏤, 鏽, 鐃, 鐘, 鐮, 鐲, 鐳, 鐵, 鐸, 鐺, 鑄, 鑑, 鑒, 鑠, 鑣, 鑰, 鑲, 鑼, 鑽, 鑾, 鑿, 長, 門, 閂, 閃, 閉, 開, 閏, 閑, 閒, 間, 閔, 閘, 閡, 閣, 閤, 閥, 閨, 閩, 閭, 閱, 閻, 闆, 闈, 闊, 闋, 闌, 闐, 闔, 闖, 關, 闡, 闢, 阜, 阡, 阪, 阮, 阱, 防, 阻, 阿, 陀, 附, 陋, 陌, 降, 限, 陛, 陝, 陡, 院, 陣, 除, 陪, 陰, 陲, 陳, 陴, 陵, 陶, 陷, 陸, 陽, 隅, 隆, 隊, 隋, 隍, 階, 隔, 隕, 隘, 隙, 際, 障, 隧, 隨, 險, 隱, 隴, 隸, 隻, 雀, 雁, 雄, 雅, 集, 雇, 雉, 雋, 雌, 雍, 雕, 雖, 雙, 雛, 雜, 雞, 離, 難, 雨, 雪, 雯, 雲, 零, 雷, 雹, 電, 需, 霄, 霆, 震, 霉, 霍, 霎, 霏, 霑, 霓, 霖, 霜, 霞, 霧, 霪, 露, 霸, 霹, 霽, 霾, 靂, 靄, 靈, 青, 靖, 靛, 靜, 非, 靠, 靡, 面, 靦, 靨, 革, 靴, 靶, 靼, 鞅, 鞋, 鞍, 鞏, 鞘, 鞠, 鞣, 鞦, 鞭, 韁, 韃, 韆, 韋, 韌, 韓, 韜, 韭, 音, 韶, 韻, 響, 頁, 頂, 頃, 項, 順, 須, 頊, 頌, 預, 頑, 頒, 頓, 頗, 領, 頡, 頤, 頭, 頰, 頷, 頸, 頹, 頻, 顆, 題, 額, 顎, 顏, 顓, 願, 顛, 類, 顧, 顫, 顯, 顰, 顱, 風, 颯, 颱, 颳, 颶, 颺, 颼, 飄, 飛, 食, 飢, 飧, 飩, 飪, 飭, 飯, 飲, 飴, 飼, 飽, 飾, 餃, 餅, 餉, 養, 餌, 餐, 餒, 餓, 餘, 餛, 餞, 餡, 館, 餵, 餽, 餾, 餿, 饅, 饑, 饒, 饜, 饞, 首, 香, 馥, 馨, 馬, 馭, 馮, 馱, 馳, 馴, 駁, 駐, 駑, 駒, 駕, 駙, 駛, 駝, 駟, 駢, 駭, 駱, 駿, 騁, 騎, 騖, 騙, 騫, 騰, 騷, 騾, 驀, 驃, 驅, 驕, 驗, 驚, 驛, 驟, 驢, 驥, 驪, 骨, 骯, 骰, 骷, 骸, 骼, 髏, 髒, 髓, 體, 高, 髦, 髭, 髮, 髯, 髻, 鬃, 鬆, 鬍, 鬚, 鬢, 鬥, 鬧, 鬨, 鬱, 鬲, 鬼, 魁, 魂, 魄, 魅, 魏, 魔, 魘, 魚, 魯, 魷, 鮑, 鮪, 鮫, 鮮, 鯉, 鯊, 鯧, 鯨, 鯽, 鰍, 鰓, 鰥, 鰭, 鰱, 鰻, 鰾, 鱉, 鱔, 鱖, 鱗, 鱷, 鱸, 鳥, 鳩, 鳳, 鳴, 鳶, 鴆, 鴉, 鴒, 鴕, 鴛, 鴣, 鴦, 鴨, 鴻, 鴿, 鵑, 鵝, 鵠, 鵡, 鵪, 鵬, 鵲, 鶉, 鶯, 鶴, 鷂, 鷓, 鷗, 鷥, 鷹, 鷺, 鸚, 鸞, 鹹, 鹼, 鹽, 鹿, 麂, 麋, 麒, 麓, 麗, 麝, 麟, 麥, 麩, 麴, 麵, 麻, 麼, 麾, 黃, 黍, 黎, 黏, 黑, 黔, 默, 黛, 黜, 黝, 點, 黠, 黨, 黯, 黴, 黷, 鼇, 鼎, 鼓, 鼕, 鼙, 鼠, 鼬, 鼴, 鼻, 鼾, 齊, 齋, 齒, 齜, 齟, 齡, 齣, 齦, 齪, 齬, 齲, 齷, 龍, 龐, 龔'"
      ]
     },
     "execution_count": 66,
     "metadata": {},
     "output_type": "execute_result"
    }
   ],
   "source": [
    "import os\n",
    "label_list = list(os.listdir('./cleaned_data(50_50)-20200420T071507Z-001/image_data'))\n",
    "', '.join(label_list)"
   ]
  },
  {
   "cell_type": "code",
   "execution_count": 67,
   "id": "5198df4b",
   "metadata": {},
   "outputs": [
    {
     "name": "stdout",
     "output_type": "stream",
     "text": [
      "Found 65535 files belonging to 1133 classes.\n",
      "Using 52428 files for training.\n",
      "Found 65535 files belonging to 1133 classes.\n",
      "Using 13107 files for validation.\n"
     ]
    }
   ],
   "source": [
    "# image_dataset_from_directory：讀取目錄中的檔案，存入 dataset\n",
    "# image_dataset_from_directory：tf v2.3.0 才支援\n",
    "\n",
    "image_size = (50, 50)  # 影像尺寸\n",
    "batch_size = 100          # 批量\n",
    "\n",
    "# 訓練資料集(Dataset)\n",
    "# https://www.tensorflow.org/api_docs/python/tf/keras/utils/image_dataset_from_directory\n",
    "# 加 color_mode=\"grayscale\", 試試看\n",
    "train_ds = tf.keras.preprocessing.image_dataset_from_directory(\n",
    "    './cleaned_data(50_50)-20200420T071507Z-001/image_data',\n",
    "    validation_split=0.2,\n",
    "    subset=\"training\",\n",
    "    seed=1337,\n",
    "    image_size=image_size,\n",
    "    batch_size=batch_size,\n",
    "    color_mode=\"grayscale\", \n",
    ")\n",
    "# 驗證(Validation)資料集\n",
    "val_ds = tf.keras.preprocessing.image_dataset_from_directory(\n",
    "    './cleaned_data(50_50)-20200420T071507Z-001/image_data',\n",
    "    validation_split=0.2,\n",
    "    subset=\"validation\",\n",
    "    seed=1337,\n",
    "    image_size=image_size,\n",
    "    batch_size=batch_size,\n",
    "    color_mode=\"grayscale\", \n",
    "#     class_names=label_list,\n",
    "#     labels=None,\n",
    ")"
   ]
  },
  {
   "cell_type": "code",
   "execution_count": 68,
   "id": "cfb45515",
   "metadata": {},
   "outputs": [],
   "source": [
    "# model 內有特徵縮放\n",
    "# def process(image,label):\n",
    "#     image = tf.cast(image/255. ,tf.float32)\n",
    "#     return image,label\n",
    "\n",
    "# train_ds = train_ds.map(process)\n",
    "# val_ds = val_ds.map(process)"
   ]
  },
  {
   "cell_type": "markdown",
   "id": "ef3b82c8",
   "metadata": {},
   "source": [
    "## 顯示訓練資料前9筆影像"
   ]
  },
  {
   "cell_type": "code",
   "execution_count": 69,
   "id": "8c80fb4a",
   "metadata": {},
   "outputs": [],
   "source": [
    "# for images, labels in train_ds.take(1):\n",
    "#     print(images)\n",
    "#     break"
   ]
  },
  {
   "cell_type": "code",
   "execution_count": 70,
   "id": "bf685673",
   "metadata": {},
   "outputs": [
    {
     "name": "stderr",
     "output_type": "stream",
     "text": [
      "C:\\ProgramData\\Anaconda3\\lib\\site-packages\\IPython\\core\\pylabtools.py:151: UserWarning: Glyph 36401 (\\N{CJK UNIFIED IDEOGRAPH-8E31}) missing from current font.\n",
      "  fig.canvas.print_figure(bytes_io, **kw)\n",
      "C:\\ProgramData\\Anaconda3\\lib\\site-packages\\IPython\\core\\pylabtools.py:151: UserWarning: Glyph 36664 (\\N{CJK UNIFIED IDEOGRAPH-8F38}) missing from current font.\n",
      "  fig.canvas.print_figure(bytes_io, **kw)\n",
      "C:\\ProgramData\\Anaconda3\\lib\\site-packages\\IPython\\core\\pylabtools.py:151: UserWarning: Glyph 39522 (\\N{CJK UNIFIED IDEOGRAPH-9A62}) missing from current font.\n",
      "  fig.canvas.print_figure(bytes_io, **kw)\n",
      "C:\\ProgramData\\Anaconda3\\lib\\site-packages\\IPython\\core\\pylabtools.py:151: UserWarning: Glyph 36628 (\\N{CJK UNIFIED IDEOGRAPH-8F14}) missing from current font.\n",
      "  fig.canvas.print_figure(bytes_io, **kw)\n",
      "C:\\ProgramData\\Anaconda3\\lib\\site-packages\\IPython\\core\\pylabtools.py:151: UserWarning: Glyph 35435 (\\N{CJK UNIFIED IDEOGRAPH-8A6B}) missing from current font.\n",
      "  fig.canvas.print_figure(bytes_io, **kw)\n",
      "C:\\ProgramData\\Anaconda3\\lib\\site-packages\\IPython\\core\\pylabtools.py:151: UserWarning: Glyph 37129 (\\N{CJK UNIFIED IDEOGRAPH-9109}) missing from current font.\n",
      "  fig.canvas.print_figure(bytes_io, **kw)\n",
      "C:\\ProgramData\\Anaconda3\\lib\\site-packages\\IPython\\core\\pylabtools.py:151: UserWarning: Glyph 38639 (\\N{CJK UNIFIED IDEOGRAPH-96EF}) missing from current font.\n",
      "  fig.canvas.print_figure(bytes_io, **kw)\n",
      "C:\\ProgramData\\Anaconda3\\lib\\site-packages\\IPython\\core\\pylabtools.py:151: UserWarning: Glyph 40687 (\\N{CJK UNIFIED IDEOGRAPH-9EEF}) missing from current font.\n",
      "  fig.canvas.print_figure(bytes_io, **kw)\n",
      "C:\\ProgramData\\Anaconda3\\lib\\site-packages\\IPython\\core\\pylabtools.py:151: UserWarning: Glyph 39714 (\\N{CJK UNIFIED IDEOGRAPH-9B22}) missing from current font.\n",
      "  fig.canvas.print_figure(bytes_io, **kw)\n"
     ]
    },
    {
     "data": {
      "image/png": "[encoded data removed]",
      "text/plain": [
       "<Figure size 720x720 with 9 Axes>"
      ]
     },
     "metadata": {
      "needs_background": "light"
     },
     "output_type": "display_data"
    }
   ],
   "source": [
    "import matplotlib.pyplot as plt\n",
    "\n",
    "plt.rcParams['font.sans-serif'] = ['Arial Unicode MS'] \n",
    "plt.rcParams['axes.unicode_minus'] = False\n",
    "\n",
    "data = train_ds.take(1)\n",
    "data = list(data.as_numpy_iterator())\n",
    "images = data[0][0]\n",
    "label = data[0][1]   \n",
    "\n",
    "# 顯示訓練資料前9筆影像\n",
    "plt.figure(figsize=(10, 10))\n",
    "for i in range(9):\n",
    "    ax = plt.subplot(3, 3, i + 1)\n",
    "    plt.imshow(images[i].astype(int), cmap='Greys_r')\n",
    "    plt.title(label_list[int(label[i])] + ' ' + str(int(label[i])))\n",
    "    plt.axis(\"off\")"
   ]
  },
  {
   "cell_type": "code",
   "execution_count": 71,
   "id": "245e033b",
   "metadata": {},
   "outputs": [
    {
     "data": {
      "text/plain": [
       "dtype('float32')"
      ]
     },
     "execution_count": 71,
     "metadata": {},
     "output_type": "execute_result"
    }
   ],
   "source": [
    "images[0].dtype"
   ]
  },
  {
   "cell_type": "code",
   "execution_count": 72,
   "id": "1cac6f28",
   "metadata": {},
   "outputs": [
    {
     "data": {
      "text/plain": [
       "array([ 354,  415,  979,  405,  145,  544,  797, 1105, 1002,   42,  830,\n",
       "        149,  428,  413, 1124,  745,  984,  595,  103,  418,  836,  496,\n",
       "        686,   55,  141, 1100,  938,  761,  227,   66,  161,  440,  937,\n",
       "        934,  818,  570,  191,  208,  565,   43,  339,  445,  870,  496,\n",
       "        206,  144,   42,  410,   67,  993,   57,  602,  373,  808,  909,\n",
       "        565,  761,  786,  784,  590,  504,  951,  687,  815,  488,  885,\n",
       "        794,  372,  231,  721,   30,    3,  672,  502,  172,   57,  784,\n",
       "        819,  187,  153,  310,  512, 1038,  885, 1042,  831,  235,  996,\n",
       "        169, 1021,  251,  319,  138,  545,  234, 1007,  201, 1020, 1032,\n",
       "        305])"
      ]
     },
     "execution_count": 72,
     "metadata": {},
     "output_type": "execute_result"
    }
   ],
   "source": [
    "label"
   ]
  },
  {
   "cell_type": "markdown",
   "id": "ab93a16d",
   "metadata": {},
   "source": [
    "## 定義資料增補(Data Augmentation)"
   ]
  },
  {
   "cell_type": "code",
   "execution_count": 73,
   "id": "6382e442",
   "metadata": {},
   "outputs": [],
   "source": [
    "# https://www.tensorflow.org/tutorials/images/data_augmentation\n",
    "# RandomFlip(\"horizontal\")：水平翻轉\n",
    "# RandomRotation(0.1)：旋轉 0.1 比例 \n",
    "data_augmentation = keras.Sequential(\n",
    "    [\n",
    "#         layers.RandomFlip(\"horizontal\"),\n",
    "#         layers.RandomZoom(height_factor=(-0.1, 0.1), width_factor=(-0.1, 0.1)),\n",
    "#         layers.RandomFlip(\"horizontal_and_vertical\"),\n",
    "        layers.RandomRotation(0.1),\n",
    "#         layers.RandomWidth(0.5),\n",
    "    ]\n",
    ")"
   ]
  },
  {
   "cell_type": "markdown",
   "id": "9d1c9411",
   "metadata": {},
   "source": [
    "## 顯示資料增補後的影像"
   ]
  },
  {
   "cell_type": "code",
   "execution_count": 78,
   "id": "0152a446",
   "metadata": {},
   "outputs": [
    {
     "data": {
      "text/plain": [
       "((100, 50, 50, 1),\n",
       " array([ 861,  282, 1040,  283,   85,  572,  129,  504,  410,  499,   68,\n",
       "        1077,  458,   66,  109,  179,  984,  235,  219,  223,  684,  496,\n",
       "          87,  615,  760,  274,  465,  993,  193,  784, 1104,  379, 1005,\n",
       "         583,  174,  231,  563, 1002,  895,  693,  830,  923,  111,  440,\n",
       "         116,    7,  351,  748,  547,   61,  445,  741,  935,  115,  313,\n",
       "         591,  562,   62,  151,  566,  748,  698,  619,  421,  201,   60,\n",
       "         228,  610,  599,  893,  488,  533,  577,  481,  948,  553,  649,\n",
       "         514,  752,  292,  363,  939,  253,  423,  560,  906,  410,  937,\n",
       "         311,  761,  885,  379,  407,  363,  840, 1076,  901,   57,  930,\n",
       "         736]))"
      ]
     },
     "execution_count": 78,
     "metadata": {},
     "output_type": "execute_result"
    }
   ],
   "source": [
    "data = train_ds.take(1)\n",
    "data = list(data.as_numpy_iterator())\n",
    "images = data[0][0]\n",
    "label = data[0][1]   \n",
    "\n",
    "images.shape, label"
   ]
  },
  {
   "cell_type": "code",
   "execution_count": 79,
   "id": "a700ab7e",
   "metadata": {},
   "outputs": [
    {
     "data": {
      "image/png": "[encoded data removed]",
      "text/plain": [
       "<Figure size 720x720 with 25 Axes>"
      ]
     },
     "metadata": {
      "needs_background": "light"
     },
     "output_type": "display_data"
    }
   ],
   "source": [
    "# 顯示資料增補後的影像\n",
    "# prefetch 就沒有效果了\n",
    "plt.figure(figsize=(10, 10))\n",
    "for i in range(25):\n",
    "    augmented_images = data_augmentation(images[0:1])\n",
    "    ax = plt.subplot(5, 5, i + 1)\n",
    "    plt.imshow(augmented_images[0], cmap='Greys_r')\n",
    "    plt.axis(\"off\")\n",
    "# print(augmented_images.shape)"
   ]
  },
  {
   "cell_type": "markdown",
   "id": "a9dc33e1",
   "metadata": {},
   "source": [
    "## prefetch：預先讀取訓練資料，以提升效能"
   ]
  },
  {
   "cell_type": "code",
   "execution_count": 80,
   "id": "8cb28d3d",
   "metadata": {},
   "outputs": [],
   "source": [
    "train_ds = train_ds.prefetch(buffer_size=batch_size)\n",
    "val_ds = val_ds.prefetch(buffer_size=batch_size)"
   ]
  },
  {
   "cell_type": "markdown",
   "id": "b4993b6b",
   "metadata": {},
   "source": [
    "## 建立模型"
   ]
  },
  {
   "cell_type": "code",
   "execution_count": 81,
   "id": "fdc13ac9",
   "metadata": {},
   "outputs": [
    {
     "data": {
      "text/plain": [
       "(50, 50, 1)"
      ]
     },
     "execution_count": 81,
     "metadata": {},
     "output_type": "execute_result"
    }
   ],
   "source": [
    "image_size + (1,)"
   ]
  },
  {
   "cell_type": "code",
   "execution_count": 82,
   "id": "53a439f5",
   "metadata": {},
   "outputs": [],
   "source": [
    "# 定義模型\n",
    "def make_model(input_shape, num_classes):\n",
    "    inputs = keras.Input(shape=input_shape)\n",
    "    # Image augmentation block\n",
    "    x = data_augmentation(inputs)\n",
    "\n",
    "    # 特徵縮放\n",
    "    x = layers.Rescaling(1.0 / 255)(x)\n",
    "    x = layers.Conv2D(32, 3, strides=2, padding=\"same\")(x)\n",
    "    x = layers.BatchNormalization()(x)\n",
    "    x = layers.Activation(\"relu\")(x)\n",
    "\n",
    "    x = layers.Conv2D(64, 3, padding=\"same\")(x)\n",
    "    x = layers.BatchNormalization()(x)\n",
    "    x = layers.Activation(\"relu\")(x)\n",
    "\n",
    "    previous_block_activation = x  # Set aside residual\n",
    "\n",
    "    for size in [128, 256, 512, 728]:\n",
    "        x = layers.Activation(\"relu\")(x)\n",
    "        x = layers.SeparableConv2D(size, 3, padding=\"same\")(x)\n",
    "        x = layers.BatchNormalization()(x)\n",
    "\n",
    "        x = layers.Activation(\"relu\")(x)\n",
    "        x = layers.SeparableConv2D(size, 3, padding=\"same\")(x)\n",
    "        x = layers.BatchNormalization()(x)\n",
    "\n",
    "        x = layers.MaxPooling2D(3, strides=2, padding=\"same\")(x)\n",
    "\n",
    "        # Project residual\n",
    "        residual = layers.Conv2D(size, 1, strides=2, padding=\"same\")(\n",
    "            previous_block_activation\n",
    "        )\n",
    "        x = layers.add([x, residual])  # Add back residual\n",
    "        previous_block_activation = x  # Set aside next residual\n",
    "\n",
    "    x = layers.SeparableConv2D(1024, 3, padding=\"same\")(x)\n",
    "    x = layers.BatchNormalization()(x)\n",
    "    x = layers.Activation(\"relu\")(x)\n",
    "\n",
    "    x = layers.GlobalAveragePooling2D()(x)\n",
    "    activation = \"softmax\"\n",
    "    units = num_classes\n",
    "\n",
    "    x = layers.Dropout(0.2)(x)\n",
    "    outputs = layers.Dense(units, activation=activation)(x)\n",
    "    return keras.Model(inputs, outputs)\n",
    "\n",
    "# 建立模型\n",
    "model = make_model(input_shape=image_size + (1,), num_classes=len(label_list))\n",
    "# 繪製模型結構\n",
    "# keras.utils.plot_model(model, show_shapes=True)"
   ]
  },
  {
   "cell_type": "markdown",
   "id": "1da271d2",
   "metadata": {},
   "source": [
    "## 訓練模型"
   ]
  },
  {
   "cell_type": "code",
   "execution_count": 83,
   "id": "a8e26c5b",
   "metadata": {},
   "outputs": [
    {
     "name": "stdout",
     "output_type": "stream",
     "text": [
      "Epoch 1/5\n",
      "WARNING:tensorflow:Using a while_loop for converting RngReadAndSkip cause there is no registered converter for this op.\n",
      "WARNING:tensorflow:Using a while_loop for converting Bitcast cause there is no registered converter for this op.\n",
      "WARNING:tensorflow:Using a while_loop for converting Bitcast cause there is no registered converter for this op.\n",
      "WARNING:tensorflow:Using a while_loop for converting StatelessRandomUniformV2 cause there is no registered converter for this op.\n",
      "WARNING:tensorflow:Using a while_loop for converting ImageProjectiveTransformV3 cause there is no registered converter for this op.\n",
      "WARNING:tensorflow:Using a while_loop for converting RngReadAndSkip cause there is no registered converter for this op.\n",
      "WARNING:tensorflow:Using a while_loop for converting Bitcast cause there is no registered converter for this op.\n",
      "WARNING:tensorflow:Using a while_loop for converting Bitcast cause there is no registered converter for this op.\n",
      "WARNING:tensorflow:Using a while_loop for converting StatelessRandomUniformV2 cause there is no registered converter for this op.\n",
      "WARNING:tensorflow:Using a while_loop for converting ImageProjectiveTransformV3 cause there is no registered converter for this op.\n",
      "525/525 [==============================] - 1181s 2s/step - loss: 5.1816 - accuracy: 0.0822 - val_loss: 4.8939 - val_accuracy: 0.0657\n",
      "Epoch 2/5\n",
      "525/525 [==============================] - 1173s 2s/step - loss: 2.0142 - accuracy: 0.4862 - val_loss: 6.6224 - val_accuracy: 0.1207\n",
      "Epoch 3/5\n",
      "525/525 [==============================] - 1036s 2s/step - loss: 1.0972 - accuracy: 0.6974 - val_loss: 1.2237 - val_accuracy: 0.6810\n",
      "Epoch 4/5\n",
      "525/525 [==============================] - 928s 2s/step - loss: 0.7883 - accuracy: 0.7741 - val_loss: 23.1795 - val_accuracy: 0.0301\n",
      "Epoch 5/5\n",
      "525/525 [==============================] - 914s 2s/step - loss: 0.6169 - accuracy: 0.8187 - val_loss: 8.7231 - val_accuracy: 0.1679\n"
     ]
    },
    {
     "data": {
      "text/plain": [
       "<keras.callbacks.History at 0x289fc39e2e0>"
      ]
     },
     "execution_count": 83,
     "metadata": {},
     "output_type": "execute_result"
    }
   ],
   "source": [
    "epochs = 5\n",
    "\n",
    "# 設定優化器(optimizer)、損失函數(loss)、效能衡量指標(metrics)的類別\n",
    "model.compile(\n",
    "    optimizer=keras.optimizers.Adam(),\n",
    "    loss=\"sparse_categorical_crossentropy\",\n",
    "    metrics=[\"accuracy\"],\n",
    ")\n",
    "\n",
    "# 模型訓練\n",
    "model.fit(\n",
    "    train_ds, epochs=epochs, validation_data=val_ds\n",
    ")"
   ]
  },
  {
   "cell_type": "markdown",
   "id": "f7eb720f",
   "metadata": {},
   "source": [
    "### 訓練 50 epochs, 驗證準確率可達 96%"
   ]
  },
  {
   "cell_type": "markdown",
   "id": "89600422",
   "metadata": {},
   "source": [
    "## 從目錄中任選一個檔案測試"
   ]
  },
  {
   "cell_type": "code",
   "execution_count": 84,
   "id": "16789c7d",
   "metadata": {},
   "outputs": [],
   "source": [
    "with open('./cleaned_data(50_50)-20200420T071507Z-001/labels.txt', 'r', encoding='utf8') as f:\n",
    "    text = f.read()\n",
    "labels = {}    \n",
    "for i, item in enumerate(text.split('\\n')):\n",
    "    labels[i]=item"
   ]
  },
  {
   "cell_type": "code",
   "execution_count": 85,
   "id": "ad768dd3",
   "metadata": {},
   "outputs": [],
   "source": [
    "# 任取一筆資料測試\n",
    "import os, numpy as np\n",
    "\n",
    "def predict(file_path):\n",
    "    img = keras.preprocessing.image.load_img(\n",
    "        file_path, target_size=image_size, color_mode=\"grayscale\"\n",
    "    )\n",
    "    img_array = keras.preprocessing.image.img_to_array(img) # 將影像轉為陣列\n",
    "    img_array = tf.expand_dims(img_array, 0)  # 增加一維在最前面，代表一筆資料\n",
    "    print(img_array.shape)\n",
    "    predictions = model.predict(img_array)\n",
    "    pred = np.argmax(predictions, axis=-1)[0]\n",
    "    score = np.max(predictions, axis=-1)[0]\n",
    "    print(f\"預測={labels[pred]}, 機率= {(100 * score):.2f}%\")"
   ]
  },
  {
   "cell_type": "code",
   "execution_count": 86,
   "id": "1ca8a5fc",
   "metadata": {},
   "outputs": [
    {
     "name": "stdout",
     "output_type": "stream",
     "text": [
      "(1, 50, 50, 1)\n",
      "1/1 [==============================] - 1s 830ms/step\n",
      "預測=蟯, 機率= 40.90%\n"
     ]
    }
   ],
   "source": [
    "predict(r\"./cleaned_data(50_50)-20200420T071507Z-001/image_data/血/35.png\")"
   ]
  },
  {
   "cell_type": "code",
   "execution_count": 88,
   "id": "381b6569",
   "metadata": {},
   "outputs": [
    {
     "name": "stdout",
     "output_type": "stream",
     "text": [
      "(1, 50, 50, 1)\n",
      "1/1 [==============================] - 0s 39ms/step\n",
      "預測=衛, 機率= 86.22%\n"
     ]
    }
   ],
   "source": [
    "predict(r\"./cleaned_data(50_50)-20200420T071507Z-001/image_data/行/2.png\")"
   ]
  },
  {
   "cell_type": "code",
   "execution_count": 89,
   "id": "700e8f55",
   "metadata": {},
   "outputs": [
    {
     "name": "stdout",
     "output_type": "stream",
     "text": [
      "(1, 50, 50, 1)\n",
      "1/1 [==============================] - 0s 37ms/step\n",
      "預測=蟯, 機率= 71.87%\n"
     ]
    }
   ],
   "source": [
    "predict(r\"./cleaned_data(50_50)-20200420T071507Z-001/image_data/阡/26.png\")"
   ]
  },
  {
   "cell_type": "code",
   "execution_count": 91,
   "id": "7640259e",
   "metadata": {},
   "outputs": [
    {
     "name": "stdout",
     "output_type": "stream",
     "text": [
      "(1, 50, 50, 1)\n",
      "1/1 [==============================] - 0s 37ms/step\n",
      "預測=逖, 機率= 93.03%\n"
     ]
    }
   ],
   "source": [
    "predict(r\"./cleaned_data(50_50)-20200420T071507Z-001/image_data/迆/52.png\")"
   ]
  },
  {
   "cell_type": "code",
   "execution_count": 92,
   "id": "760fd9c1",
   "metadata": {},
   "outputs": [
    {
     "data": {
      "text/plain": [
       "(9, 50, 50, 1)"
      ]
     },
     "execution_count": 92,
     "metadata": {},
     "output_type": "execute_result"
    },
    {
     "name": "stderr",
     "output_type": "stream",
     "text": [
      "C:\\ProgramData\\Anaconda3\\lib\\site-packages\\IPython\\core\\pylabtools.py:151: UserWarning: Glyph 38480 (\\N{CJK UNIFIED IDEOGRAPH-9650}) missing from current font.\n",
      "  fig.canvas.print_figure(bytes_io, **kw)\n",
      "C:\\ProgramData\\Anaconda3\\lib\\site-packages\\IPython\\core\\pylabtools.py:151: UserWarning: Glyph 37283 (\\N{CJK UNIFIED IDEOGRAPH-91A3}) missing from current font.\n",
      "  fig.canvas.print_figure(bytes_io, **kw)\n",
      "C:\\ProgramData\\Anaconda3\\lib\\site-packages\\IPython\\core\\pylabtools.py:151: UserWarning: Glyph 36196 (\\N{CJK UNIFIED IDEOGRAPH-8D64}) missing from current font.\n",
      "  fig.canvas.print_figure(bytes_io, **kw)\n",
      "C:\\ProgramData\\Anaconda3\\lib\\site-packages\\IPython\\core\\pylabtools.py:151: UserWarning: Glyph 34957 (\\N{CJK UNIFIED IDEOGRAPH-888D}) missing from current font.\n",
      "  fig.canvas.print_figure(bytes_io, **kw)\n",
      "C:\\ProgramData\\Anaconda3\\lib\\site-packages\\IPython\\core\\pylabtools.py:151: UserWarning: Glyph 37733 (\\N{CJK UNIFIED IDEOGRAPH-9365}) missing from current font.\n",
      "  fig.canvas.print_figure(bytes_io, **kw)\n",
      "C:\\ProgramData\\Anaconda3\\lib\\site-packages\\IPython\\core\\pylabtools.py:151: UserWarning: Glyph 37496 (\\N{CJK UNIFIED IDEOGRAPH-9278}) missing from current font.\n",
      "  fig.canvas.print_figure(bytes_io, **kw)\n",
      "C:\\ProgramData\\Anaconda3\\lib\\site-packages\\IPython\\core\\pylabtools.py:151: UserWarning: Glyph 39592 (\\N{CJK UNIFIED IDEOGRAPH-9AA8}) missing from current font.\n",
      "  fig.canvas.print_figure(bytes_io, **kw)\n",
      "C:\\ProgramData\\Anaconda3\\lib\\site-packages\\IPython\\core\\pylabtools.py:151: UserWarning: Glyph 34993 (\\N{CJK UNIFIED IDEOGRAPH-88B1}) missing from current font.\n",
      "  fig.canvas.print_figure(bytes_io, **kw)\n",
      "C:\\ProgramData\\Anaconda3\\lib\\site-packages\\IPython\\core\\pylabtools.py:151: UserWarning: Glyph 38476 (\\N{CJK UNIFIED IDEOGRAPH-964C}) missing from current font.\n",
      "  fig.canvas.print_figure(bytes_io, **kw)\n"
     ]
    },
    {
     "data": {
      "image/png": "[encoded data removed]",
      "text/plain": [
       "<Figure size 720x720 with 9 Axes>"
      ]
     },
     "metadata": {
      "needs_background": "light"
     },
     "output_type": "display_data"
    }
   ],
   "source": [
    "data = train_ds.take(1)\n",
    "data = list(data.as_numpy_iterator())\n",
    "images = data[0][0]\n",
    "label = data[0][1]   \n",
    "\n",
    "true_labels_list=[]\n",
    "# 顯示訓練資料前9筆影像\n",
    "plt.figure(figsize=(10, 10))\n",
    "for i in range(9):\n",
    "    ax = plt.subplot(3, 3, i + 1)\n",
    "    plt.imshow(images[i].astype(int), cmap='Greys_r')\n",
    "    plt.title(label_list[int(label[i])] + ' ' + str(int(label[i])))\n",
    "    plt.axis(\"off\")\n",
    "    true_labels_list += [int(label[i])]\n",
    "    images_expand = np.expand_dims(images[i].astype(int),0)\n",
    "    if i==0:\n",
    "        test_images = images_expand\n",
    "    else:\n",
    "        test_images = np.concatenate((test_images, images_expand), axis=0)\n",
    "test_images.shape"
   ]
  },
  {
   "cell_type": "code",
   "execution_count": 93,
   "id": "c1a59617",
   "metadata": {},
   "outputs": [
    {
     "name": "stdout",
     "output_type": "stream",
     "text": [
      "1/1 [==============================] - 1s 630ms/step\n",
      "[741, 574, 311, 45, 651, 615, 982, 50, 739]\n",
      "[751, 567, 774, 32, 10, 682, 1106, 774, 415]\n",
      "限, 醣, 赤, 袍, 鍥, 鉸, 骨, 袱, 陌, \n",
      "陳, 醃, 隴, 衛, 蟯, 鐵, 黴, 隴, 輸, "
     ]
    }
   ],
   "source": [
    "# 預測\n",
    "predictions = model.predict(test_images)\n",
    "print(true_labels_list)\n",
    "print(list(np.argmax(predictions, axis=-1)))\n",
    "\n",
    "for pred in true_labels_list:\n",
    "    print(labels[pred], end=', ')\n",
    "print()    \n",
    "for pred in np.argmax(predictions, axis=-1):\n",
    "    print(labels[pred], end=', ') "
   ]
  },
  {
   "cell_type": "code",
   "execution_count": 94,
   "id": "241588bc",
   "metadata": {},
   "outputs": [],
   "source": [
    "# 模型存檔\n",
    "model.save('./chinese_model.h5')"
   ]
  },
  {
   "cell_type": "code",
   "execution_count": 95,
   "id": "666cfe86",
   "metadata": {},
   "outputs": [],
   "source": [
    "# 模型載入\n",
    "model = tf.keras.models.load_model('./chinese_model.h5')"
   ]
  },
  {
   "cell_type": "code",
   "execution_count": null,
   "id": "56d523f7",
   "metadata": {},
   "outputs": [],
   "source": []
  }
 ],
 "metadata": {
  "kernelspec": {
   "display_name": "Python 3 (ipykernel)",
   "language": "python",
   "name": "python3"
  },
  "language_info": {
   "codemirror_mode": {
    "name": "ipython",
    "version": 3
   },
   "file_extension": ".py",
   "mimetype": "text/x-python",
   "name": "python",
   "nbconvert_exporter": "python",
   "pygments_lexer": "ipython3",
   "version": "3.9.12"
  }
 },
 "nbformat": 4,
 "nbformat_minor": 5
}
